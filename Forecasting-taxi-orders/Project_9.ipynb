{
 "cells": [
  {
   "cell_type": "markdown",
   "metadata": {
    "toc": true
   },
   "source": [
    "<h1>Содержание<span class=\"tocSkip\"></span></h1>\n",
    "<div class=\"toc\"><ul class=\"toc-item\"><li><span><a href=\"#Подготовка\" data-toc-modified-id=\"Подготовка-1\"><span class=\"toc-item-num\">1&nbsp;&nbsp;</span>Подготовка</a></span></li><li><span><a href=\"#Анализ\" data-toc-modified-id=\"Анализ-2\"><span class=\"toc-item-num\">2&nbsp;&nbsp;</span>Анализ</a></span></li><li><span><a href=\"#Обучение\" data-toc-modified-id=\"Обучение-3\"><span class=\"toc-item-num\">3&nbsp;&nbsp;</span>Обучение</a></span></li><li><span><a href=\"#Тестирование\" data-toc-modified-id=\"Тестирование-4\"><span class=\"toc-item-num\">4&nbsp;&nbsp;</span>Тестирование</a></span></li><li><span><a href=\"#Итоговый-вывод\" data-toc-modified-id=\"Итоговый-вывод-5\"><span class=\"toc-item-num\">5&nbsp;&nbsp;</span>Итоговый вывод</a></span></li><li><span><a href=\"#Чек-лист-проверки\" data-toc-modified-id=\"Чек-лист-проверки-6\"><span class=\"toc-item-num\">6&nbsp;&nbsp;</span>Чек-лист проверки</a></span></li></ul></div>"
   ]
  },
  {
   "cell_type": "markdown",
   "metadata": {},
   "source": [
    "#  Прогнозирование заказов такси"
   ]
  },
  {
   "cell_type": "markdown",
   "metadata": {},
   "source": [
    "В нашем проекте компания «Чётенькое такси» стремится улучшить эффективность работы в аэропортах, используя исторические данные о заказах. Основная задача — построить модель и спрогнозировать количество заказов такси на следующий час, чтобы привлечь больше водителей в периоды пиковой нагрузки.\n",
    "\n",
    "Данные лежат в файле taxi.csv. Количество заказов находится в столбце num_orders.\n",
    "\n",
    "Для достижения нашей цели нам необходимо:  \n",
    "\n",
    " 1) Загрузить данные и ресемплировать их по одному часу.  \n",
    " 2) Провести анализ данных.   \n",
    " 3) Обучить различные модели с настройкой гиперпараметров, выделив 10% данных для тестовой выборки.   \n",
    " 4) Оценить модели по качеству на тренировочной выборке, а также по времени обучения и предсказания, определить наилучшую модель и, после её выбора, рассчитать RMSE на тестовой выборке, обеспечив, чтобы метрика RMSE не превышала 48.\n",
    "\n",
    "Следуя этим шагам, мы сможем разработать модель машинного обучения для прогнозирования количества заказов такси в аэропортах на следующий час, которая позволит более точно привлекать водителей в периоды высокого спроса, обеспечивая их присутствие в нужное время и место."
   ]
  },
  {
   "cell_type": "markdown",
   "metadata": {},
   "source": [
    "## Подготовка"
   ]
  },
  {
   "cell_type": "code",
   "execution_count": 1,
   "metadata": {},
   "outputs": [
    {
     "name": "stdout",
     "output_type": "stream",
     "text": [
      "Requirement already satisfied: scikit-learn==1.1.3 in /opt/conda/lib/python3.9/site-packages (1.1.3)\n",
      "Requirement already satisfied: scipy>=1.3.2 in /opt/conda/lib/python3.9/site-packages (from scikit-learn==1.1.3) (1.9.1)\n",
      "Requirement already satisfied: threadpoolctl>=2.0.0 in /opt/conda/lib/python3.9/site-packages (from scikit-learn==1.1.3) (3.1.0)\n",
      "Requirement already satisfied: numpy>=1.17.3 in /opt/conda/lib/python3.9/site-packages (from scikit-learn==1.1.3) (1.21.1)\n",
      "Requirement already satisfied: joblib>=1.0.0 in /opt/conda/lib/python3.9/site-packages (from scikit-learn==1.1.3) (1.1.0)\n",
      "Requirement already satisfied: phik in /opt/conda/lib/python3.9/site-packages (0.12.4)\n",
      "Requirement already satisfied: numpy>=1.18.0 in /opt/conda/lib/python3.9/site-packages (from phik) (1.21.1)\n",
      "Requirement already satisfied: scipy>=1.5.2 in /opt/conda/lib/python3.9/site-packages (from phik) (1.9.1)\n",
      "Requirement already satisfied: matplotlib>=2.2.3 in /opt/conda/lib/python3.9/site-packages (from phik) (3.3.4)\n",
      "Requirement already satisfied: pandas>=0.25.1 in /opt/conda/lib/python3.9/site-packages (from phik) (1.2.4)\n",
      "Requirement already satisfied: joblib>=0.14.1 in /opt/conda/lib/python3.9/site-packages (from phik) (1.1.0)\n",
      "Requirement already satisfied: python-dateutil>=2.1 in /opt/conda/lib/python3.9/site-packages (from matplotlib>=2.2.3->phik) (2.8.1)\n",
      "Requirement already satisfied: kiwisolver>=1.0.1 in /opt/conda/lib/python3.9/site-packages (from matplotlib>=2.2.3->phik) (1.4.4)\n",
      "Requirement already satisfied: pillow>=6.2.0 in /opt/conda/lib/python3.9/site-packages (from matplotlib>=2.2.3->phik) (8.4.0)\n",
      "Requirement already satisfied: cycler>=0.10 in /opt/conda/lib/python3.9/site-packages (from matplotlib>=2.2.3->phik) (0.11.0)\n",
      "Requirement already satisfied: pyparsing!=2.0.4,!=2.1.2,!=2.1.6,>=2.0.3 in /opt/conda/lib/python3.9/site-packages (from matplotlib>=2.2.3->phik) (2.4.7)\n",
      "Requirement already satisfied: pytz>=2017.3 in /opt/conda/lib/python3.9/site-packages (from pandas>=0.25.1->phik) (2021.1)\n",
      "Requirement already satisfied: six>=1.5 in /opt/conda/lib/python3.9/site-packages (from python-dateutil>=2.1->matplotlib>=2.2.3->phik) (1.16.0)\n",
      "Requirement already satisfied: statsmodels in /opt/conda/lib/python3.9/site-packages (0.13.2)\n",
      "Requirement already satisfied: scipy>=1.3 in /opt/conda/lib/python3.9/site-packages (from statsmodels) (1.9.1)\n",
      "Requirement already satisfied: pandas>=0.25 in /opt/conda/lib/python3.9/site-packages (from statsmodels) (1.2.4)\n",
      "Requirement already satisfied: packaging>=21.3 in /opt/conda/lib/python3.9/site-packages (from statsmodels) (21.3)\n",
      "Requirement already satisfied: numpy>=1.17 in /opt/conda/lib/python3.9/site-packages (from statsmodels) (1.21.1)\n",
      "Requirement already satisfied: patsy>=0.5.2 in /opt/conda/lib/python3.9/site-packages (from statsmodels) (0.5.2)\n",
      "Requirement already satisfied: pyparsing!=3.0.5,>=2.0.2 in /opt/conda/lib/python3.9/site-packages (from packaging>=21.3->statsmodels) (2.4.7)\n",
      "Requirement already satisfied: python-dateutil>=2.7.3 in /opt/conda/lib/python3.9/site-packages (from pandas>=0.25->statsmodels) (2.8.1)\n",
      "Requirement already satisfied: pytz>=2017.3 in /opt/conda/lib/python3.9/site-packages (from pandas>=0.25->statsmodels) (2021.1)\n",
      "Requirement already satisfied: six in /opt/conda/lib/python3.9/site-packages (from patsy>=0.5.2->statsmodels) (1.16.0)\n"
     ]
    }
   ],
   "source": [
    "!pip install scikit-learn==1.1.3\n",
    "!pip install phik\n",
    "!pip install statsmodels\n",
    "import pandas as pd\n",
    "import numpy as np\n",
    "from matplotlib import pyplot as plt\n",
    "import seaborn as sns\n",
    "import time\n",
    "import lightgbm as lgb\n",
    "import phik\n",
    "import warnings\n",
    "from sklearn.compose import (ColumnTransformer, make_column_transformer)\n",
    "from sklearn.pipeline import (make_pipeline, Pipeline)\n",
    "from sklearn.preprocessing import (OneHotEncoder, OrdinalEncoder, StandardScaler, MinMaxScaler, LabelEncoder)\n",
    "from sklearn.impute import SimpleImputer\n",
    "from sklearn.linear_model import LinearRegression, LogisticRegression\n",
    "from sklearn.ensemble import RandomForestRegressor\n",
    "from sklearn.dummy import DummyRegressor\n",
    "from sklearn.tree import DecisionTreeRegressor\n",
    "from sklearn.neighbors import KNeighborsClassifier\n",
    "from sklearn.model_selection import (RandomizedSearchCV, train_test_split, GridSearchCV, TimeSeriesSplit)\n",
    "from sklearn.metrics import (mean_squared_error, roc_auc_score)\n",
    "from catboost import CatBoostRegressor\n",
    "from statsmodels.tsa.seasonal import seasonal_decompose\n",
    "\n",
    "warnings.filterwarnings(\"ignore\")\n",
    "\n",
    "RANDOM_STATE = 42\n",
    "MAX_LAG = 24\n",
    "ROLLING_MEAN_SIZE = 24"
   ]
  },
  {
   "cell_type": "markdown",
   "metadata": {},
   "source": [
    "Для начала загрузим наш исходный датасет"
   ]
  },
  {
   "cell_type": "code",
   "execution_count": 2,
   "metadata": {},
   "outputs": [],
   "source": [
    "taxi = pd.read_csv('/datasets/taxi.csv')"
   ]
  },
  {
   "cell_type": "code",
   "execution_count": 3,
   "metadata": {},
   "outputs": [
    {
     "data": {
      "text/html": [
       "<div>\n",
       "<style scoped>\n",
       "    .dataframe tbody tr th:only-of-type {\n",
       "        vertical-align: middle;\n",
       "    }\n",
       "\n",
       "    .dataframe tbody tr th {\n",
       "        vertical-align: top;\n",
       "    }\n",
       "\n",
       "    .dataframe thead th {\n",
       "        text-align: right;\n",
       "    }\n",
       "</style>\n",
       "<table border=\"1\" class=\"dataframe\">\n",
       "  <thead>\n",
       "    <tr style=\"text-align: right;\">\n",
       "      <th></th>\n",
       "      <th>datetime</th>\n",
       "      <th>num_orders</th>\n",
       "    </tr>\n",
       "  </thead>\n",
       "  <tbody>\n",
       "    <tr>\n",
       "      <th>0</th>\n",
       "      <td>2018-03-01 00:00:00</td>\n",
       "      <td>9</td>\n",
       "    </tr>\n",
       "    <tr>\n",
       "      <th>1</th>\n",
       "      <td>2018-03-01 00:10:00</td>\n",
       "      <td>14</td>\n",
       "    </tr>\n",
       "    <tr>\n",
       "      <th>2</th>\n",
       "      <td>2018-03-01 00:20:00</td>\n",
       "      <td>28</td>\n",
       "    </tr>\n",
       "    <tr>\n",
       "      <th>3</th>\n",
       "      <td>2018-03-01 00:30:00</td>\n",
       "      <td>20</td>\n",
       "    </tr>\n",
       "    <tr>\n",
       "      <th>4</th>\n",
       "      <td>2018-03-01 00:40:00</td>\n",
       "      <td>32</td>\n",
       "    </tr>\n",
       "  </tbody>\n",
       "</table>\n",
       "</div>"
      ],
      "text/plain": [
       "              datetime  num_orders\n",
       "0  2018-03-01 00:00:00           9\n",
       "1  2018-03-01 00:10:00          14\n",
       "2  2018-03-01 00:20:00          28\n",
       "3  2018-03-01 00:30:00          20\n",
       "4  2018-03-01 00:40:00          32"
      ]
     },
     "metadata": {},
     "output_type": "display_data"
    },
    {
     "data": {
      "text/html": [
       "<div>\n",
       "<style scoped>\n",
       "    .dataframe tbody tr th:only-of-type {\n",
       "        vertical-align: middle;\n",
       "    }\n",
       "\n",
       "    .dataframe tbody tr th {\n",
       "        vertical-align: top;\n",
       "    }\n",
       "\n",
       "    .dataframe thead th {\n",
       "        text-align: right;\n",
       "    }\n",
       "</style>\n",
       "<table border=\"1\" class=\"dataframe\">\n",
       "  <thead>\n",
       "    <tr style=\"text-align: right;\">\n",
       "      <th></th>\n",
       "      <th>datetime</th>\n",
       "      <th>num_orders</th>\n",
       "    </tr>\n",
       "  </thead>\n",
       "  <tbody>\n",
       "    <tr>\n",
       "      <th>26491</th>\n",
       "      <td>2018-08-31 23:10:00</td>\n",
       "      <td>32</td>\n",
       "    </tr>\n",
       "    <tr>\n",
       "      <th>26492</th>\n",
       "      <td>2018-08-31 23:20:00</td>\n",
       "      <td>24</td>\n",
       "    </tr>\n",
       "    <tr>\n",
       "      <th>26493</th>\n",
       "      <td>2018-08-31 23:30:00</td>\n",
       "      <td>27</td>\n",
       "    </tr>\n",
       "    <tr>\n",
       "      <th>26494</th>\n",
       "      <td>2018-08-31 23:40:00</td>\n",
       "      <td>39</td>\n",
       "    </tr>\n",
       "    <tr>\n",
       "      <th>26495</th>\n",
       "      <td>2018-08-31 23:50:00</td>\n",
       "      <td>53</td>\n",
       "    </tr>\n",
       "  </tbody>\n",
       "</table>\n",
       "</div>"
      ],
      "text/plain": [
       "                  datetime  num_orders\n",
       "26491  2018-08-31 23:10:00          32\n",
       "26492  2018-08-31 23:20:00          24\n",
       "26493  2018-08-31 23:30:00          27\n",
       "26494  2018-08-31 23:40:00          39\n",
       "26495  2018-08-31 23:50:00          53"
      ]
     },
     "metadata": {},
     "output_type": "display_data"
    },
    {
     "name": "stdout",
     "output_type": "stream",
     "text": [
      "<class 'pandas.core.frame.DataFrame'>\n",
      "RangeIndex: 26496 entries, 0 to 26495\n",
      "Data columns (total 2 columns):\n",
      " #   Column      Non-Null Count  Dtype \n",
      "---  ------      --------------  ----- \n",
      " 0   datetime    26496 non-null  object\n",
      " 1   num_orders  26496 non-null  int64 \n",
      "dtypes: int64(1), object(1)\n",
      "memory usage: 414.1+ KB\n"
     ]
    }
   ],
   "source": [
    "display(taxi.head(5))\n",
    "display(taxi.tail(5))\n",
    "taxi.info()"
   ]
  },
  {
   "cell_type": "markdown",
   "metadata": {},
   "source": [
    "Для начала проверим, есть ли пропуски в нашем датасете"
   ]
  },
  {
   "cell_type": "code",
   "execution_count": 4,
   "metadata": {},
   "outputs": [
    {
     "data": {
      "text/plain": [
       "datetime      0\n",
       "num_orders    0\n",
       "dtype: int64"
      ]
     },
     "execution_count": 4,
     "metadata": {},
     "output_type": "execute_result"
    }
   ],
   "source": [
    "taxi.isna().sum()"
   ]
  },
  {
   "cell_type": "markdown",
   "metadata": {},
   "source": [
    "Также изменим тип данных столбца datetime с object на datetime64."
   ]
  },
  {
   "cell_type": "code",
   "execution_count": 5,
   "metadata": {},
   "outputs": [],
   "source": [
    "taxi['datetime'] = pd.to_datetime(taxi['datetime'])"
   ]
  },
  {
   "cell_type": "code",
   "execution_count": 6,
   "metadata": {},
   "outputs": [],
   "source": [
    "taxi.set_index('datetime', verify_integrity=True, inplace=True)"
   ]
  },
  {
   "cell_type": "markdown",
   "metadata": {},
   "source": [
    "Стоблец datetime исчез и наша таблица теперь выглядит так"
   ]
  },
  {
   "cell_type": "code",
   "execution_count": 7,
   "metadata": {},
   "outputs": [
    {
     "name": "stdout",
     "output_type": "stream",
     "text": [
      "<class 'pandas.core.frame.DataFrame'>\n",
      "DatetimeIndex: 26496 entries, 2018-03-01 00:00:00 to 2018-08-31 23:50:00\n",
      "Data columns (total 1 columns):\n",
      " #   Column      Non-Null Count  Dtype\n",
      "---  ------      --------------  -----\n",
      " 0   num_orders  26496 non-null  int64\n",
      "dtypes: int64(1)\n",
      "memory usage: 414.0 KB\n"
     ]
    }
   ],
   "source": [
    "taxi.info()"
   ]
  },
  {
   "cell_type": "markdown",
   "metadata": {},
   "source": [
    "Как видно из таблиц выше, у нас имеются данные с 01 марта 2018 по 31 августа 2018 года. Записи идут с промежутком в 10 минут.  \n",
    "Дополнительно проверим, в хронологическом ли порядке расположены даты и время в датасете"
   ]
  },
  {
   "cell_type": "code",
   "execution_count": 8,
   "metadata": {},
   "outputs": [
    {
     "data": {
      "text/plain": [
       "True"
      ]
     },
     "execution_count": 8,
     "metadata": {},
     "output_type": "execute_result"
    }
   ],
   "source": [
    "taxi.sort_index(inplace=True)\n",
    "taxi.index.is_monotonic"
   ]
  },
  {
   "cell_type": "markdown",
   "metadata": {},
   "source": [
    "Т.к. атрибут вернул нам значение True, то порядок соблюдён"
   ]
  },
  {
   "cell_type": "code",
   "execution_count": 9,
   "metadata": {},
   "outputs": [
    {
     "data": {
      "text/html": [
       "<div>\n",
       "<style scoped>\n",
       "    .dataframe tbody tr th:only-of-type {\n",
       "        vertical-align: middle;\n",
       "    }\n",
       "\n",
       "    .dataframe tbody tr th {\n",
       "        vertical-align: top;\n",
       "    }\n",
       "\n",
       "    .dataframe thead th {\n",
       "        text-align: right;\n",
       "    }\n",
       "</style>\n",
       "<table border=\"1\" class=\"dataframe\">\n",
       "  <thead>\n",
       "    <tr style=\"text-align: right;\">\n",
       "      <th></th>\n",
       "      <th>num_orders</th>\n",
       "    </tr>\n",
       "  </thead>\n",
       "  <tbody>\n",
       "    <tr>\n",
       "      <th>count</th>\n",
       "      <td>26496.000000</td>\n",
       "    </tr>\n",
       "    <tr>\n",
       "      <th>mean</th>\n",
       "      <td>14.070463</td>\n",
       "    </tr>\n",
       "    <tr>\n",
       "      <th>std</th>\n",
       "      <td>9.211330</td>\n",
       "    </tr>\n",
       "    <tr>\n",
       "      <th>min</th>\n",
       "      <td>0.000000</td>\n",
       "    </tr>\n",
       "    <tr>\n",
       "      <th>25%</th>\n",
       "      <td>8.000000</td>\n",
       "    </tr>\n",
       "    <tr>\n",
       "      <th>50%</th>\n",
       "      <td>13.000000</td>\n",
       "    </tr>\n",
       "    <tr>\n",
       "      <th>75%</th>\n",
       "      <td>19.000000</td>\n",
       "    </tr>\n",
       "    <tr>\n",
       "      <th>max</th>\n",
       "      <td>119.000000</td>\n",
       "    </tr>\n",
       "  </tbody>\n",
       "</table>\n",
       "</div>"
      ],
      "text/plain": [
       "         num_orders\n",
       "count  26496.000000\n",
       "mean      14.070463\n",
       "std        9.211330\n",
       "min        0.000000\n",
       "25%        8.000000\n",
       "50%       13.000000\n",
       "75%       19.000000\n",
       "max      119.000000"
      ]
     },
     "execution_count": 9,
     "metadata": {},
     "output_type": "execute_result"
    }
   ],
   "source": [
    "taxi.describe()"
   ]
  },
  {
   "cell_type": "markdown",
   "metadata": {},
   "source": [
    "Как видно отрицательных значений заказов нет. Минимальное количество заказов - 0, среднее количество заказов - 14, а максимальное количество заказов - 119"
   ]
  },
  {
   "cell_type": "markdown",
   "metadata": {},
   "source": [
    "Выполним ресемплирование. Выберем интервал в один час, а по каждой группе — вычислим суммарное значение."
   ]
  },
  {
   "cell_type": "code",
   "execution_count": 10,
   "metadata": {},
   "outputs": [],
   "source": [
    "taxi_res = taxi.resample('1H').sum()"
   ]
  },
  {
   "cell_type": "markdown",
   "metadata": {},
   "source": [
    "В первой части работы мы успешно подготовили данные для анализа. Изначально датасет состоял из двух столбцов: datetime и num_orders. Мы изменили тип данных datetime с object на datetime64, что позволило преобразовать данные во временной ряд. После этого столбец datetime стал индексом, и таблица теперь содержит только один столбец – num_orders, пропуски в нем отсутствуют. Данные охватывают период с 1 марта по 31 августа 2018 года с интервалом записей в 10 минут. Проведена проверка на монотонность временного ряда. Проверка подтвердила, что даты и время в датасете расположены в хронологическом порядке. Для дальнейшего анализа мы выполнили ресемплирование с интервалом в один час, суммируя значения в каждой группе. Итак, наш датасет подготовлен для следующего этапа анализа."
   ]
  },
  {
   "cell_type": "markdown",
   "metadata": {},
   "source": [
    "## Анализ"
   ]
  },
  {
   "cell_type": "markdown",
   "metadata": {},
   "source": [
    " Построим наш временной ряд количества заказов такси с марта по август 2018 года"
   ]
  },
  {
   "cell_type": "code",
   "execution_count": 11,
   "metadata": {},
   "outputs": [
    {
     "data": {
      "image/png": "[encoded data removed]",
      "text/plain": [
       "<Figure size 864x504 with 1 Axes>"
      ]
     },
     "metadata": {
      "needs_background": "light"
     },
     "output_type": "display_data"
    }
   ],
   "source": [
    "fig, ax = plt.subplots(figsize=(12, 7))\n",
    "taxi_res.plot(ax=ax, linestyle='-', title='Количество заказов с марта по август 2018 года')\n",
    "ax.set_xlabel('Дата')\n",
    "ax.set_ylabel('Количество заказов')\n",
    "ax.grid()\n",
    "plt.xticks(rotation=45)\n",
    "plt.tight_layout()\n",
    "plt.show()"
   ]
  },
  {
   "cell_type": "markdown",
   "metadata": {},
   "source": [
    "Временной ряд на графике демонстрирует значительные колебания из-за изменения среднего значения, поэтому для его сглаживания применим скользящее среднее."
   ]
  },
  {
   "cell_type": "code",
   "execution_count": 12,
   "metadata": {},
   "outputs": [],
   "source": [
    "taxi_res['rolling_mean']=taxi_res.rolling(window=25).mean()"
   ]
  },
  {
   "cell_type": "markdown",
   "metadata": {},
   "source": [
    "Мы выбрали скользящее среднее с окном в 24 наблюдения, чтобы уменьшить колебания временного ряда и сделать более явными основные тренды и сезонные паттерны в данных."
   ]
  },
  {
   "cell_type": "code",
   "execution_count": 13,
   "metadata": {},
   "outputs": [
    {
     "data": {
      "image/png": "[encoded data removed]",
      "text/plain": [
       "<Figure size 864x504 with 1 Axes>"
      ]
     },
     "metadata": {
      "needs_background": "light"
     },
     "output_type": "display_data"
    }
   ],
   "source": [
    "fig, ax = plt.subplots(figsize=(12, 7))\n",
    "taxi_res.plot(ax=ax, linestyle='-', title='Количество заказов с марта по август 2018 года со скользяшим средним')\n",
    "ax.set_xlabel('Дата')\n",
    "ax.set_ylabel('Количество заказов')\n",
    "ax.grid()\n",
    "plt.xticks(rotation=45)\n",
    "plt.tight_layout()\n",
    "plt.show()"
   ]
  },
  {
   "cell_type": "markdown",
   "metadata": {},
   "source": [
    "Ряд выглядит нестационарным, поэтому давайте проверим, являются ли разности временного ряда стационарными. Это позволит нам лучше понять характеристики временного ряда и определить, требуется ли дальнейшая обработка для достижения стационарности."
   ]
  },
  {
   "cell_type": "code",
   "execution_count": 14,
   "metadata": {},
   "outputs": [
    {
     "data": {
      "image/png": "[encoded data removed]",
      "text/plain": [
       "<Figure size 864x504 with 1 Axes>"
      ]
     },
     "metadata": {
      "needs_background": "light"
     },
     "output_type": "display_data"
    }
   ],
   "source": [
    "taxi_res_new = taxi_res.copy()\n",
    "taxi_res_new['num_orders_shifted'] = taxi_res_new['num_orders'] - taxi_res['num_orders'].shift()\n",
    "taxi_res_new['rolling_mean'] = taxi_res_new['num_orders_shifted'].rolling(24).mean()\n",
    "taxi_res_new['rolling_std'] = taxi_res_new['num_orders_shifted'].rolling(24).std()\n",
    "\n",
    "fig, ax = plt.subplots(figsize=(12, 7))\n",
    "taxi_res_new['num_orders_shifted'].plot(ax=ax, label='Разности вреенного ряда')\n",
    "taxi_res_new['rolling_mean'].plot(ax=ax, label='Скользящее среднее')\n",
    "taxi_res_new['rolling_std'].plot(ax=ax, label='Скользящее стандартное отклонение')\n",
    "plt.legend()\n",
    "plt.title('Разности временного ряда со скользящим средним и стандартным отклонением')\n",
    "plt.xlabel('Дата')\n",
    "plt.ylabel('Количество заказов')\n",
    "plt.grid()\n",
    "plt.tight_layout()\n",
    "plt.show()"
   ]
  },
  {
   "cell_type": "markdown",
   "metadata": {},
   "source": [
    "Как мы видим по графику выше, наш ряд стал более стационарным. Среднее значение и стандарное отклонение стали более постоянными и равномерными во времени."
   ]
  },
  {
   "cell_type": "markdown",
   "metadata": {},
   "source": [
    "Также, построим графики тренда, сезонности и остатков, чтобы далее мы смогли проанализировать наши данные."
   ]
  },
  {
   "cell_type": "code",
   "execution_count": 15,
   "metadata": {},
   "outputs": [
    {
     "data": {
      "image/png": "[encoded data removed]",
      "text/plain": [
       "<Figure size 720x864 with 3 Axes>"
      ]
     },
     "metadata": {
      "needs_background": "light"
     },
     "output_type": "display_data"
    }
   ],
   "source": [
    "decomposed = seasonal_decompose(taxi_res['num_orders'])\n",
    "\n",
    "# Создание графиков\n",
    "plt.figure(figsize=(10, 12))\n",
    "\n",
    "# Тренд\n",
    "plt.subplot(3, 1, 1)\n",
    "decomposed.trend.plot(ax=plt.gca(), grid=True)\n",
    "plt.title('Trend')\n",
    "plt.xlabel('Дата')\n",
    "plt.ylabel('Количество заказов')\n",
    "\n",
    "# Сезонность\n",
    "plt.subplot(3, 1, 2)\n",
    "decomposed.seasonal.plot(ax=plt.gca(), grid=True)\n",
    "plt.title('Seasonality')\n",
    "plt.xlabel('Дата')\n",
    "plt.ylabel('Количество заказов')\n",
    "\n",
    "# Остатки\n",
    "plt.subplot(3, 1, 3)\n",
    "decomposed.resid.plot(ax=plt.gca(), grid=True)\n",
    "plt.title('Residuals')\n",
    "plt.xlabel('Дата')\n",
    "plt.ylabel('Количество заказов')\n",
    "\n",
    "plt.suptitle('Графики компонентов временного ряда', fontsize=16)\n",
    "plt.tight_layout(rect=[0, 0, 1, 0.96])\n",
    "plt.show()"
   ]
  },
  {
   "cell_type": "markdown",
   "metadata": {},
   "source": [
    "- Тренд показывает равномерный рост числа заказов такси с небольшими периодическими снижениями. Это может свидетельствовать о постепенном росте спроса или развитии бизнеса в данной сфере. Далее еще построим график тренда на меньший интервал времени.\n",
    "- Интерпретировать сезонность на таком длительном диапазоне данных затруднительно, поэтому далее рассмотрим её на более коротком временном отрезке, например, в пределах одной недели или месяца. Это позволит лучше выявить ежедневные колебания и паттерны, связанные с конкретными событиями или днями недели.\n",
    "- Значительные колебания на графике остатков, вероятно, указывают на присутствие пиковых значений. Эти пики могут быть связаны с внешними факторами, такими как праздничные дни или события, влияющие на спрос на такси."
   ]
  },
  {
   "cell_type": "markdown",
   "metadata": {},
   "source": [
    "Для начала давайте рассмотрим тренд на промежутке в 1 месяц (март), чтобы более детально понять, как изменяется количество заказов в этом периоде. На таком небольшом временном отрезке легче заметить основные изменения в заказах такси."
   ]
  },
  {
   "cell_type": "code",
   "execution_count": 16,
   "metadata": {},
   "outputs": [
    {
     "data": {
      "image/png": "[encoded data removed]",
      "text/plain": [
       "<Figure size 1008x432 with 1 Axes>"
      ]
     },
     "metadata": {
      "needs_background": "light"
     },
     "output_type": "display_data"
    }
   ],
   "source": [
    "trend_mar = decomposed.trend['2018-03-01':'2018-03-31']\n",
    "fig, ax = plt.subplots(figsize=(14, 6))\n",
    "trend_mar.plot(ax=ax, color='orange', grid=True)\n",
    "ax.set_title('Тренд за март 2018 года', fontsize=16)\n",
    "ax.set_xlabel('Дата', fontsize=14)\n",
    "ax.set_ylabel('Количество заказов', fontsize=14)\n",
    "\n",
    "plt.show()"
   ]
  },
  {
   "cell_type": "markdown",
   "metadata": {},
   "source": [
    "Как видно из графика, больше всего такси заказывают по понедельникам и субботам, а меньше всего по воскресеньям и вторникам."
   ]
  },
  {
   "cell_type": "markdown",
   "metadata": {},
   "source": [
    "Посмотрим на сезонность для первой недели марта. 1 марта 2018 это четверг, поэтому при рассмотрении недели, мы укажем даты с понедельника по воскресение, то есть с 5 марта по 11 марта."
   ]
  },
  {
   "cell_type": "code",
   "execution_count": 17,
   "metadata": {},
   "outputs": [
    {
     "data": {
      "image/png": "[encoded data removed]",
      "text/plain": [
       "<Figure size 1008x432 with 1 Axes>"
      ]
     },
     "metadata": {
      "needs_background": "light"
     },
     "output_type": "display_data"
    }
   ],
   "source": [
    "seasonal_week = decomposed.seasonal['2018-03-05':'2018-03-11']\n",
    "fig, ax = plt.subplots(figsize=(14, 6))\n",
    "seasonal_week.plot(ax=ax, color='orange', grid=True)\n",
    "ax.set_title('Сезонность за первую неделю марта 2018 года', fontsize=16)\n",
    "ax.set_xlabel('Дата', fontsize=14)\n",
    "ax.set_ylabel('Количество заказов', fontsize=14)\n",
    "\n",
    "plt.show()"
   ]
  },
  {
   "cell_type": "markdown",
   "metadata": {},
   "source": [
    "Мы наблюдаем, что сезонность остается постоянной на протяжении всей недели. В начале каждых суток фиксируется пик заказов, после чего происходит резкое снижение. Затем в течение дня количество заказов увеличивается, достигая нового пика к концу суток."
   ]
  },
  {
   "cell_type": "markdown",
   "metadata": {},
   "source": [
    "Как видно, время суток сильно влияет на активность заказов такси. Чтобы удостовериться в этом наблюдении, рассмотрим понедельник 12 марта, так как именно в этот день отмечается наибольшее количество заказов за месяц."
   ]
  },
  {
   "cell_type": "code",
   "execution_count": 18,
   "metadata": {},
   "outputs": [
    {
     "data": {
      "image/png": "[encoded data removed]",
      "text/plain": [
       "<Figure size 864x432 with 1 Axes>"
      ]
     },
     "metadata": {
      "needs_background": "light"
     },
     "output_type": "display_data"
    }
   ],
   "source": [
    "# Построение сезонности активности заказов за 12 марта 2018 года\n",
    "fig, ax = plt.subplots(figsize=(12, 6))\n",
    "\n",
    "# 12 марта\n",
    "decomposed.seasonal['2018-03-12 00:00':'2018-03-13 00:00'].plot(ax=ax, color='orange', grid=True)\n",
    "ax.set_title('Сезонность активности заказов за 12 марта 2018 года', fontsize=16)\n",
    "ax.set_xlabel('Дата', fontsize=14)\n",
    "ax.set_ylabel('Количество заказов', fontsize=14)\n",
    "\n",
    "plt.xticks(rotation=45)\n",
    "plt.tight_layout()\n",
    "plt.show()"
   ]
  },
  {
   "cell_type": "markdown",
   "metadata": {},
   "source": [
    "Как и ожидалось, количество заказов такси значительно изменяется в течение суток. Основной пик заказов приходится на начало суток, в полночь, после чего следует спад в ночные часы. Утром и днем количество заказов снова возрастает, достигая максимума к концу суток и началу следующих. Такая картина заказов связана с повседневным ритмом жизни большинства людей и привычным суточным циклом активности."
   ]
  },
  {
   "cell_type": "markdown",
   "metadata": {},
   "source": [
    "Итак, в данном шаге работы мы проанализировали временной ряд данных о количестве заказов такси с марта по август 2018 года, начиная с его построения и анализа основных компонентов, таких как тренд, сезонность и остатки.\n",
    "\n",
    "Временной ряд продемонстрировал значительные колебания среднего значения, что затрудняет его интерпретацию. Чтобы выделить основные тенденции, мы применили скользящее среднее с окном 24, чтобы уменьшить шум и сгладить колебания. Ряд изначально не являлся стационарным, поэтому мы проверили стационарность разностей временного ряда. После применения разностей стало видно, что среднее значение и стандартное отклонение стали более постоянными.\n",
    "\n",
    "Потом мы построили графики тренда, сезонности и остатков, чтобы более глубоко понять характеристики ряда.\n",
    "\n",
    "- Тренд показывает постепенный рост числа заказов, что, вероятно, связано с увеличением спроса. Для более детального анализа тренда мы рассмотрели временной отрезок всего месяца марта и установили, что наибольшие пики приходятся на понедельники и субботы, а минимумы — на воскресенья и вторники.\n",
    "- Графики сезонности, построенные для недельного и суточного периодов, показали четкие повторяющиеся пики в начале и в конце каждых суток. Это говорит о том, что активность заказов такси подвержена регулярным колебаниям, связанным с временем суток. В течение недели картина остается примерно одинаковой: наблюдается схожая динамика спроса, когда люди чаще заказывают такси в определенные часы, как утром и вечером, что указывает на влияние повседневного ритма жизни. \n",
    "- Остатки показывают некоторые колебания, что может быть связано с событиями и праздниками, влияющими на спрос.\n",
    "\n",
    "Анализ данных показал, что количество заказов такси зависит от времени суток и дня недели. Утренние и вечерние пики связаны с цикличностью повседневной активности людей. Пики заказов чаще наблюдаются в начале недели и в субботу, что говорит о разной потребности в такси в рабочие и выходные дни. Эти наблюдения могут быть полезными для прогнозирования и планирования заказов в будущем, а также для принятия решений по оптимизации и управлению бизнесом по заказу такси."
   ]
  },
  {
   "cell_type": "markdown",
   "metadata": {},
   "source": [
    "## Обучение"
   ]
  },
  {
   "cell_type": "markdown",
   "metadata": {},
   "source": [
    "Для начала удалим все признаки, которые использовались для анализа и создадим новые выделив их в отдельные признаки месяцы, дни, дни недели и часы и отнесем их к категориальному типу."
   ]
  },
  {
   "cell_type": "code",
   "execution_count": 19,
   "metadata": {},
   "outputs": [],
   "source": [
    "# Удалим ненужные столбцы из DataFrame которые использовались при анализе\n",
    "# и после сделаем функцию с созднием новых признаков\n",
    "taxi_res = taxi_res.drop(columns=['rolling_mean'])"
   ]
  },
  {
   "cell_type": "code",
   "execution_count": 20,
   "metadata": {},
   "outputs": [],
   "source": [
    "def make_features(taxi_res, MAX_LAG, ROLLING_MEAN_SIZE):\n",
    "    taxi_res['month'] = taxi_res.index.month\n",
    "    taxi_res['day'] = taxi_res.index.day\n",
    "    taxi_res['dayofweek'] = taxi_res.index.dayofweek\n",
    "    taxi_res['hour'] =taxi_res.index.hour\n",
    "    \n",
    "    for lag in range(1, MAX_LAG + 1):\n",
    "        taxi_res['lag_{}'.format(lag)] = taxi_res['num_orders'].shift(lag)\n",
    "\n",
    "    taxi_res['rolling_mean'] = taxi_res['num_orders'].shift(1).rolling(window=ROLLING_MEAN_SIZE).mean()\n",
    "    \n",
    "    return taxi_res"
   ]
  },
  {
   "cell_type": "code",
   "execution_count": 21,
   "metadata": {},
   "outputs": [
    {
     "data": {
      "text/html": [
       "<div>\n",
       "<style scoped>\n",
       "    .dataframe tbody tr th:only-of-type {\n",
       "        vertical-align: middle;\n",
       "    }\n",
       "\n",
       "    .dataframe tbody tr th {\n",
       "        vertical-align: top;\n",
       "    }\n",
       "\n",
       "    .dataframe thead th {\n",
       "        text-align: right;\n",
       "    }\n",
       "</style>\n",
       "<table border=\"1\" class=\"dataframe\">\n",
       "  <thead>\n",
       "    <tr style=\"text-align: right;\">\n",
       "      <th></th>\n",
       "      <th>num_orders</th>\n",
       "      <th>month</th>\n",
       "      <th>day</th>\n",
       "      <th>dayofweek</th>\n",
       "      <th>hour</th>\n",
       "      <th>lag_1</th>\n",
       "      <th>lag_2</th>\n",
       "      <th>lag_3</th>\n",
       "      <th>lag_4</th>\n",
       "      <th>lag_5</th>\n",
       "      <th>...</th>\n",
       "      <th>lag_16</th>\n",
       "      <th>lag_17</th>\n",
       "      <th>lag_18</th>\n",
       "      <th>lag_19</th>\n",
       "      <th>lag_20</th>\n",
       "      <th>lag_21</th>\n",
       "      <th>lag_22</th>\n",
       "      <th>lag_23</th>\n",
       "      <th>lag_24</th>\n",
       "      <th>rolling_mean</th>\n",
       "    </tr>\n",
       "    <tr>\n",
       "      <th>datetime</th>\n",
       "      <th></th>\n",
       "      <th></th>\n",
       "      <th></th>\n",
       "      <th></th>\n",
       "      <th></th>\n",
       "      <th></th>\n",
       "      <th></th>\n",
       "      <th></th>\n",
       "      <th></th>\n",
       "      <th></th>\n",
       "      <th></th>\n",
       "      <th></th>\n",
       "      <th></th>\n",
       "      <th></th>\n",
       "      <th></th>\n",
       "      <th></th>\n",
       "      <th></th>\n",
       "      <th></th>\n",
       "      <th></th>\n",
       "      <th></th>\n",
       "      <th></th>\n",
       "    </tr>\n",
       "  </thead>\n",
       "  <tbody>\n",
       "    <tr>\n",
       "      <th>2018-03-01 00:00:00</th>\n",
       "      <td>124</td>\n",
       "      <td>3</td>\n",
       "      <td>1</td>\n",
       "      <td>3</td>\n",
       "      <td>0</td>\n",
       "      <td>NaN</td>\n",
       "      <td>NaN</td>\n",
       "      <td>NaN</td>\n",
       "      <td>NaN</td>\n",
       "      <td>NaN</td>\n",
       "      <td>...</td>\n",
       "      <td>NaN</td>\n",
       "      <td>NaN</td>\n",
       "      <td>NaN</td>\n",
       "      <td>NaN</td>\n",
       "      <td>NaN</td>\n",
       "      <td>NaN</td>\n",
       "      <td>NaN</td>\n",
       "      <td>NaN</td>\n",
       "      <td>NaN</td>\n",
       "      <td>NaN</td>\n",
       "    </tr>\n",
       "    <tr>\n",
       "      <th>2018-03-01 01:00:00</th>\n",
       "      <td>85</td>\n",
       "      <td>3</td>\n",
       "      <td>1</td>\n",
       "      <td>3</td>\n",
       "      <td>1</td>\n",
       "      <td>124.0</td>\n",
       "      <td>NaN</td>\n",
       "      <td>NaN</td>\n",
       "      <td>NaN</td>\n",
       "      <td>NaN</td>\n",
       "      <td>...</td>\n",
       "      <td>NaN</td>\n",
       "      <td>NaN</td>\n",
       "      <td>NaN</td>\n",
       "      <td>NaN</td>\n",
       "      <td>NaN</td>\n",
       "      <td>NaN</td>\n",
       "      <td>NaN</td>\n",
       "      <td>NaN</td>\n",
       "      <td>NaN</td>\n",
       "      <td>NaN</td>\n",
       "    </tr>\n",
       "    <tr>\n",
       "      <th>2018-03-01 02:00:00</th>\n",
       "      <td>71</td>\n",
       "      <td>3</td>\n",
       "      <td>1</td>\n",
       "      <td>3</td>\n",
       "      <td>2</td>\n",
       "      <td>85.0</td>\n",
       "      <td>124.0</td>\n",
       "      <td>NaN</td>\n",
       "      <td>NaN</td>\n",
       "      <td>NaN</td>\n",
       "      <td>...</td>\n",
       "      <td>NaN</td>\n",
       "      <td>NaN</td>\n",
       "      <td>NaN</td>\n",
       "      <td>NaN</td>\n",
       "      <td>NaN</td>\n",
       "      <td>NaN</td>\n",
       "      <td>NaN</td>\n",
       "      <td>NaN</td>\n",
       "      <td>NaN</td>\n",
       "      <td>NaN</td>\n",
       "    </tr>\n",
       "    <tr>\n",
       "      <th>2018-03-01 03:00:00</th>\n",
       "      <td>66</td>\n",
       "      <td>3</td>\n",
       "      <td>1</td>\n",
       "      <td>3</td>\n",
       "      <td>3</td>\n",
       "      <td>71.0</td>\n",
       "      <td>85.0</td>\n",
       "      <td>124.0</td>\n",
       "      <td>NaN</td>\n",
       "      <td>NaN</td>\n",
       "      <td>...</td>\n",
       "      <td>NaN</td>\n",
       "      <td>NaN</td>\n",
       "      <td>NaN</td>\n",
       "      <td>NaN</td>\n",
       "      <td>NaN</td>\n",
       "      <td>NaN</td>\n",
       "      <td>NaN</td>\n",
       "      <td>NaN</td>\n",
       "      <td>NaN</td>\n",
       "      <td>NaN</td>\n",
       "    </tr>\n",
       "    <tr>\n",
       "      <th>2018-03-01 04:00:00</th>\n",
       "      <td>43</td>\n",
       "      <td>3</td>\n",
       "      <td>1</td>\n",
       "      <td>3</td>\n",
       "      <td>4</td>\n",
       "      <td>66.0</td>\n",
       "      <td>71.0</td>\n",
       "      <td>85.0</td>\n",
       "      <td>124.0</td>\n",
       "      <td>NaN</td>\n",
       "      <td>...</td>\n",
       "      <td>NaN</td>\n",
       "      <td>NaN</td>\n",
       "      <td>NaN</td>\n",
       "      <td>NaN</td>\n",
       "      <td>NaN</td>\n",
       "      <td>NaN</td>\n",
       "      <td>NaN</td>\n",
       "      <td>NaN</td>\n",
       "      <td>NaN</td>\n",
       "      <td>NaN</td>\n",
       "    </tr>\n",
       "    <tr>\n",
       "      <th>...</th>\n",
       "      <td>...</td>\n",
       "      <td>...</td>\n",
       "      <td>...</td>\n",
       "      <td>...</td>\n",
       "      <td>...</td>\n",
       "      <td>...</td>\n",
       "      <td>...</td>\n",
       "      <td>...</td>\n",
       "      <td>...</td>\n",
       "      <td>...</td>\n",
       "      <td>...</td>\n",
       "      <td>...</td>\n",
       "      <td>...</td>\n",
       "      <td>...</td>\n",
       "      <td>...</td>\n",
       "      <td>...</td>\n",
       "      <td>...</td>\n",
       "      <td>...</td>\n",
       "      <td>...</td>\n",
       "      <td>...</td>\n",
       "      <td>...</td>\n",
       "    </tr>\n",
       "    <tr>\n",
       "      <th>2018-08-31 19:00:00</th>\n",
       "      <td>136</td>\n",
       "      <td>8</td>\n",
       "      <td>31</td>\n",
       "      <td>4</td>\n",
       "      <td>19</td>\n",
       "      <td>207.0</td>\n",
       "      <td>217.0</td>\n",
       "      <td>197.0</td>\n",
       "      <td>116.0</td>\n",
       "      <td>133.0</td>\n",
       "      <td>...</td>\n",
       "      <td>99.0</td>\n",
       "      <td>230.0</td>\n",
       "      <td>194.0</td>\n",
       "      <td>276.0</td>\n",
       "      <td>246.0</td>\n",
       "      <td>158.0</td>\n",
       "      <td>198.0</td>\n",
       "      <td>142.0</td>\n",
       "      <td>72.0</td>\n",
       "      <td>164.875000</td>\n",
       "    </tr>\n",
       "    <tr>\n",
       "      <th>2018-08-31 20:00:00</th>\n",
       "      <td>154</td>\n",
       "      <td>8</td>\n",
       "      <td>31</td>\n",
       "      <td>4</td>\n",
       "      <td>20</td>\n",
       "      <td>136.0</td>\n",
       "      <td>207.0</td>\n",
       "      <td>217.0</td>\n",
       "      <td>197.0</td>\n",
       "      <td>116.0</td>\n",
       "      <td>...</td>\n",
       "      <td>268.0</td>\n",
       "      <td>99.0</td>\n",
       "      <td>230.0</td>\n",
       "      <td>194.0</td>\n",
       "      <td>276.0</td>\n",
       "      <td>246.0</td>\n",
       "      <td>158.0</td>\n",
       "      <td>198.0</td>\n",
       "      <td>142.0</td>\n",
       "      <td>167.541667</td>\n",
       "    </tr>\n",
       "    <tr>\n",
       "      <th>2018-08-31 21:00:00</th>\n",
       "      <td>159</td>\n",
       "      <td>8</td>\n",
       "      <td>31</td>\n",
       "      <td>4</td>\n",
       "      <td>21</td>\n",
       "      <td>154.0</td>\n",
       "      <td>136.0</td>\n",
       "      <td>207.0</td>\n",
       "      <td>217.0</td>\n",
       "      <td>197.0</td>\n",
       "      <td>...</td>\n",
       "      <td>78.0</td>\n",
       "      <td>268.0</td>\n",
       "      <td>99.0</td>\n",
       "      <td>230.0</td>\n",
       "      <td>194.0</td>\n",
       "      <td>276.0</td>\n",
       "      <td>246.0</td>\n",
       "      <td>158.0</td>\n",
       "      <td>198.0</td>\n",
       "      <td>168.041667</td>\n",
       "    </tr>\n",
       "    <tr>\n",
       "      <th>2018-08-31 22:00:00</th>\n",
       "      <td>223</td>\n",
       "      <td>8</td>\n",
       "      <td>31</td>\n",
       "      <td>4</td>\n",
       "      <td>22</td>\n",
       "      <td>159.0</td>\n",
       "      <td>154.0</td>\n",
       "      <td>136.0</td>\n",
       "      <td>207.0</td>\n",
       "      <td>217.0</td>\n",
       "      <td>...</td>\n",
       "      <td>35.0</td>\n",
       "      <td>78.0</td>\n",
       "      <td>268.0</td>\n",
       "      <td>99.0</td>\n",
       "      <td>230.0</td>\n",
       "      <td>194.0</td>\n",
       "      <td>276.0</td>\n",
       "      <td>246.0</td>\n",
       "      <td>158.0</td>\n",
       "      <td>166.416667</td>\n",
       "    </tr>\n",
       "    <tr>\n",
       "      <th>2018-08-31 23:00:00</th>\n",
       "      <td>205</td>\n",
       "      <td>8</td>\n",
       "      <td>31</td>\n",
       "      <td>4</td>\n",
       "      <td>23</td>\n",
       "      <td>223.0</td>\n",
       "      <td>159.0</td>\n",
       "      <td>154.0</td>\n",
       "      <td>136.0</td>\n",
       "      <td>207.0</td>\n",
       "      <td>...</td>\n",
       "      <td>46.0</td>\n",
       "      <td>35.0</td>\n",
       "      <td>78.0</td>\n",
       "      <td>268.0</td>\n",
       "      <td>99.0</td>\n",
       "      <td>230.0</td>\n",
       "      <td>194.0</td>\n",
       "      <td>276.0</td>\n",
       "      <td>246.0</td>\n",
       "      <td>169.125000</td>\n",
       "    </tr>\n",
       "  </tbody>\n",
       "</table>\n",
       "<p>4416 rows × 30 columns</p>\n",
       "</div>"
      ],
      "text/plain": [
       "                     num_orders  month  day  dayofweek  hour  lag_1  lag_2  \\\n",
       "datetime                                                                     \n",
       "2018-03-01 00:00:00         124      3    1          3     0    NaN    NaN   \n",
       "2018-03-01 01:00:00          85      3    1          3     1  124.0    NaN   \n",
       "2018-03-01 02:00:00          71      3    1          3     2   85.0  124.0   \n",
       "2018-03-01 03:00:00          66      3    1          3     3   71.0   85.0   \n",
       "2018-03-01 04:00:00          43      3    1          3     4   66.0   71.0   \n",
       "...                         ...    ...  ...        ...   ...    ...    ...   \n",
       "2018-08-31 19:00:00         136      8   31          4    19  207.0  217.0   \n",
       "2018-08-31 20:00:00         154      8   31          4    20  136.0  207.0   \n",
       "2018-08-31 21:00:00         159      8   31          4    21  154.0  136.0   \n",
       "2018-08-31 22:00:00         223      8   31          4    22  159.0  154.0   \n",
       "2018-08-31 23:00:00         205      8   31          4    23  223.0  159.0   \n",
       "\n",
       "                     lag_3  lag_4  lag_5  ...  lag_16  lag_17  lag_18  lag_19  \\\n",
       "datetime                                  ...                                   \n",
       "2018-03-01 00:00:00    NaN    NaN    NaN  ...     NaN     NaN     NaN     NaN   \n",
       "2018-03-01 01:00:00    NaN    NaN    NaN  ...     NaN     NaN     NaN     NaN   \n",
       "2018-03-01 02:00:00    NaN    NaN    NaN  ...     NaN     NaN     NaN     NaN   \n",
       "2018-03-01 03:00:00  124.0    NaN    NaN  ...     NaN     NaN     NaN     NaN   \n",
       "2018-03-01 04:00:00   85.0  124.0    NaN  ...     NaN     NaN     NaN     NaN   \n",
       "...                    ...    ...    ...  ...     ...     ...     ...     ...   \n",
       "2018-08-31 19:00:00  197.0  116.0  133.0  ...    99.0   230.0   194.0   276.0   \n",
       "2018-08-31 20:00:00  217.0  197.0  116.0  ...   268.0    99.0   230.0   194.0   \n",
       "2018-08-31 21:00:00  207.0  217.0  197.0  ...    78.0   268.0    99.0   230.0   \n",
       "2018-08-31 22:00:00  136.0  207.0  217.0  ...    35.0    78.0   268.0    99.0   \n",
       "2018-08-31 23:00:00  154.0  136.0  207.0  ...    46.0    35.0    78.0   268.0   \n",
       "\n",
       "                     lag_20  lag_21  lag_22  lag_23  lag_24  rolling_mean  \n",
       "datetime                                                                   \n",
       "2018-03-01 00:00:00     NaN     NaN     NaN     NaN     NaN           NaN  \n",
       "2018-03-01 01:00:00     NaN     NaN     NaN     NaN     NaN           NaN  \n",
       "2018-03-01 02:00:00     NaN     NaN     NaN     NaN     NaN           NaN  \n",
       "2018-03-01 03:00:00     NaN     NaN     NaN     NaN     NaN           NaN  \n",
       "2018-03-01 04:00:00     NaN     NaN     NaN     NaN     NaN           NaN  \n",
       "...                     ...     ...     ...     ...     ...           ...  \n",
       "2018-08-31 19:00:00   246.0   158.0   198.0   142.0    72.0    164.875000  \n",
       "2018-08-31 20:00:00   276.0   246.0   158.0   198.0   142.0    167.541667  \n",
       "2018-08-31 21:00:00   194.0   276.0   246.0   158.0   198.0    168.041667  \n",
       "2018-08-31 22:00:00   230.0   194.0   276.0   246.0   158.0    166.416667  \n",
       "2018-08-31 23:00:00    99.0   230.0   194.0   276.0   246.0    169.125000  \n",
       "\n",
       "[4416 rows x 30 columns]"
      ]
     },
     "execution_count": 21,
     "metadata": {},
     "output_type": "execute_result"
    }
   ],
   "source": [
    "# максимальное запаздывание (MAX_LAG) установим на 24,\n",
    "# размер окна для скользящего среднего (ROLLING_MEAN_SIZE) также установим на 24.\n",
    "\n",
    "make_features(taxi_res, 24, 24)"
   ]
  },
  {
   "cell_type": "code",
   "execution_count": 22,
   "metadata": {},
   "outputs": [],
   "source": [
    "taxi_res['month'] = taxi_res['month'].astype('category')\n",
    "taxi_res['day'] = taxi_res['day'].astype('category')\n",
    "taxi_res['dayofweek'] = taxi_res['dayofweek'].astype('category')\n",
    "taxi_res['hour'] = taxi_res['hour'].astype('category')"
   ]
  },
  {
   "cell_type": "markdown",
   "metadata": {},
   "source": [
    "Разделим данные на обучающую и тестовую выборки, с тестовой выборкой размером 10% от исходных данных."
   ]
  },
  {
   "cell_type": "code",
   "execution_count": 23,
   "metadata": {},
   "outputs": [],
   "source": [
    "train, test = train_test_split(taxi_res, shuffle=False, test_size=0.1, random_state = RANDOM_STATE)"
   ]
  },
  {
   "cell_type": "code",
   "execution_count": 24,
   "metadata": {},
   "outputs": [
    {
     "data": {
      "text/plain": [
       "num_orders       0\n",
       "month            0\n",
       "day              0\n",
       "dayofweek        0\n",
       "hour             0\n",
       "lag_1            1\n",
       "lag_2            2\n",
       "lag_3            3\n",
       "lag_4            4\n",
       "lag_5            5\n",
       "lag_6            6\n",
       "lag_7            7\n",
       "lag_8            8\n",
       "lag_9            9\n",
       "lag_10          10\n",
       "lag_11          11\n",
       "lag_12          12\n",
       "lag_13          13\n",
       "lag_14          14\n",
       "lag_15          15\n",
       "lag_16          16\n",
       "lag_17          17\n",
       "lag_18          18\n",
       "lag_19          19\n",
       "lag_20          20\n",
       "lag_21          21\n",
       "lag_22          22\n",
       "lag_23          23\n",
       "lag_24          24\n",
       "rolling_mean    24\n",
       "dtype: int64"
      ]
     },
     "execution_count": 24,
     "metadata": {},
     "output_type": "execute_result"
    }
   ],
   "source": [
    "train.isna().sum()"
   ]
  },
  {
   "cell_type": "code",
   "execution_count": 25,
   "metadata": {},
   "outputs": [],
   "source": [
    "train = train.dropna()"
   ]
  },
  {
   "cell_type": "code",
   "execution_count": 26,
   "metadata": {},
   "outputs": [
    {
     "data": {
      "text/plain": [
       "num_orders      0\n",
       "month           0\n",
       "day             0\n",
       "dayofweek       0\n",
       "hour            0\n",
       "lag_1           0\n",
       "lag_2           0\n",
       "lag_3           0\n",
       "lag_4           0\n",
       "lag_5           0\n",
       "lag_6           0\n",
       "lag_7           0\n",
       "lag_8           0\n",
       "lag_9           0\n",
       "lag_10          0\n",
       "lag_11          0\n",
       "lag_12          0\n",
       "lag_13          0\n",
       "lag_14          0\n",
       "lag_15          0\n",
       "lag_16          0\n",
       "lag_17          0\n",
       "lag_18          0\n",
       "lag_19          0\n",
       "lag_20          0\n",
       "lag_21          0\n",
       "lag_22          0\n",
       "lag_23          0\n",
       "lag_24          0\n",
       "rolling_mean    0\n",
       "dtype: int64"
      ]
     },
     "execution_count": 26,
     "metadata": {},
     "output_type": "execute_result"
    }
   ],
   "source": [
    "train.isna().sum()"
   ]
  },
  {
   "cell_type": "code",
   "execution_count": 27,
   "metadata": {},
   "outputs": [],
   "source": [
    "features = train.drop(columns=['num_orders'])\n",
    "target = train['num_orders']\n",
    "test_features = test.drop(columns=['num_orders']).dropna()\n",
    "test_target = test['num_orders'].loc[test_features.index]"
   ]
  },
  {
   "cell_type": "markdown",
   "metadata": {},
   "source": [
    "**Обучение моделей**"
   ]
  },
  {
   "cell_type": "markdown",
   "metadata": {},
   "source": [
    "**1. Модель LightGBM**"
   ]
  },
  {
   "cell_type": "code",
   "execution_count": 28,
   "metadata": {},
   "outputs": [],
   "source": [
    "X_train_lgbm = features.copy()\n",
    "y_train_lgbm = target.copy()\n",
    "X_test_lgbm = test_features.copy()\n",
    "y_test_lgbm = test_target.copy()"
   ]
  },
  {
   "cell_type": "code",
   "execution_count": 29,
   "metadata": {},
   "outputs": [],
   "source": [
    "cat_features = ['month', 'day', 'dayofweek', 'hour']\n",
    "num_features = X_train_lgbm.select_dtypes(exclude='category').columns.to_list()"
   ]
  },
  {
   "cell_type": "markdown",
   "metadata": {},
   "source": [
    "Использовуем метод кросс-валидации для временных рядов TimeSeriesSplit"
   ]
  },
  {
   "cell_type": "code",
   "execution_count": 30,
   "metadata": {},
   "outputs": [],
   "source": [
    "tscv = TimeSeriesSplit(n_splits=5)"
   ]
  },
  {
   "cell_type": "code",
   "execution_count": 31,
   "metadata": {},
   "outputs": [],
   "source": [
    "model_1 = lgb.LGBMRegressor(random_state=RANDOM_STATE)"
   ]
  },
  {
   "cell_type": "code",
   "execution_count": 32,
   "metadata": {},
   "outputs": [
    {
     "name": "stdout",
     "output_type": "stream",
     "text": [
      "Fitting 5 folds for each of 8 candidates, totalling 40 fits\n",
      "[CV 1/5] END learning_rate=0.2, num_leaves=100;, score=-23.316 total time=  31.5s\n",
      "[CV 2/5] END learning_rate=0.2, num_leaves=100;, score=-24.167 total time=  46.4s\n",
      "[CV 3/5] END learning_rate=0.2, num_leaves=100;, score=-24.495 total time= 1.6min\n",
      "[CV 4/5] END learning_rate=0.2, num_leaves=100;, score=-25.733 total time= 1.8min\n",
      "[CV 5/5] END learning_rate=0.2, num_leaves=100;, score=-33.276 total time= 1.9min\n",
      "[CV 1/5] END learning_rate=0.2, num_leaves=150;, score=-23.316 total time=  23.5s\n",
      "[CV 2/5] END learning_rate=0.2, num_leaves=150;, score=-24.167 total time=  56.4s\n",
      "[CV 3/5] END learning_rate=0.2, num_leaves=150;, score=-24.495 total time= 1.2min\n",
      "[CV 4/5] END learning_rate=0.2, num_leaves=150;, score=-25.572 total time= 1.3min\n",
      "[CV 5/5] END learning_rate=0.2, num_leaves=150;, score=-32.972 total time=   7.1s\n",
      "[CV 1/5] END learning_rate=0.4, num_leaves=100;, score=-24.284 total time=   1.1s\n",
      "[CV 2/5] END learning_rate=0.4, num_leaves=100;, score=-25.241 total time=   2.4s\n",
      "[CV 3/5] END learning_rate=0.4, num_leaves=100;, score=-26.129 total time=   3.5s\n",
      "[CV 4/5] END learning_rate=0.4, num_leaves=100;, score=-26.860 total time=   4.5s\n",
      "[CV 5/5] END learning_rate=0.4, num_leaves=100;, score=-35.171 total time=   5.4s\n",
      "[CV 1/5] END learning_rate=0.4, num_leaves=150;, score=-24.284 total time=   1.3s\n",
      "[CV 2/5] END learning_rate=0.4, num_leaves=150;, score=-25.241 total time=   2.3s\n",
      "[CV 3/5] END learning_rate=0.4, num_leaves=150;, score=-26.129 total time=   3.7s\n",
      "[CV 4/5] END learning_rate=0.4, num_leaves=150;, score=-26.357 total time=   5.0s\n",
      "[CV 5/5] END learning_rate=0.4, num_leaves=150;, score=-34.684 total time=   7.5s\n",
      "[CV 1/5] END learning_rate=0.5, num_leaves=100;, score=-25.837 total time=   1.3s\n",
      "[CV 2/5] END learning_rate=0.5, num_leaves=100;, score=-25.600 total time=   2.3s\n",
      "[CV 3/5] END learning_rate=0.5, num_leaves=100;, score=-26.154 total time=   3.4s\n",
      "[CV 4/5] END learning_rate=0.5, num_leaves=100;, score=-27.215 total time=   4.4s\n",
      "[CV 5/5] END learning_rate=0.5, num_leaves=100;, score=-34.410 total time=   4.8s\n",
      "[CV 1/5] END learning_rate=0.5, num_leaves=150;, score=-25.837 total time=   1.7s\n",
      "[CV 2/5] END learning_rate=0.5, num_leaves=150;, score=-25.600 total time=   3.6s\n",
      "[CV 3/5] END learning_rate=0.5, num_leaves=150;, score=-26.154 total time=   4.1s\n",
      "[CV 4/5] END learning_rate=0.5, num_leaves=150;, score=-28.714 total time=   5.8s\n",
      "[CV 5/5] END learning_rate=0.5, num_leaves=150;, score=-36.932 total time=   6.6s\n",
      "[CV 1/5] END learning_rate=0.8, num_leaves=100;, score=-26.371 total time=   1.8s\n",
      "[CV 2/5] END learning_rate=0.8, num_leaves=100;, score=-27.315 total time=   2.2s\n",
      "[CV 3/5] END learning_rate=0.8, num_leaves=100;, score=-30.359 total time=   3.4s\n",
      "[CV 4/5] END learning_rate=0.8, num_leaves=100;, score=-30.341 total time=   4.2s\n",
      "[CV 5/5] END learning_rate=0.8, num_leaves=100;, score=-36.873 total time=   6.2s\n",
      "[CV 1/5] END learning_rate=0.8, num_leaves=150;, score=-26.371 total time=   1.1s\n",
      "[CV 2/5] END learning_rate=0.8, num_leaves=150;, score=-27.315 total time=   3.3s\n",
      "[CV 3/5] END learning_rate=0.8, num_leaves=150;, score=-30.359 total time=   3.8s\n",
      "[CV 4/5] END learning_rate=0.8, num_leaves=150;, score=-30.037 total time=   6.2s\n",
      "[CV 5/5] END learning_rate=0.8, num_leaves=150;, score=-36.678 total time=   6.4s\n",
      "\n",
      "Лучшие параметры: {'learning_rate': 0.2, 'num_leaves': 150}\n",
      "Метрика RMSE, полученная с помощью кросс валидации: 26.104476237954383\n"
     ]
    }
   ],
   "source": [
    "param_grid = {'num_leaves': [100,150],'learning_rate':[0.2, 0.4, 0.5, 0.8]}\n",
    "\n",
    "grid_search_lgbm=GridSearchCV(estimator=model_1,\n",
    "                          param_grid=param_grid,\n",
    "                          scoring='neg_root_mean_squared_error',\n",
    "                          cv=tscv,\n",
    "                          verbose=3)\n",
    "\n",
    "grid_search_lgbm.fit(X_train_lgbm, y_train_lgbm)\n",
    "\n",
    "lgbm_params = grid_search_lgbm.best_params_\n",
    "\n",
    "# Вывод лучших параметров и значения метрики\n",
    "print()\n",
    "print(\"Лучшие параметры:\", lgbm_params)\n",
    "print(\"Метрика RMSE, полученная с помощью кросс валидации:\", (grid_search_lgbm.best_score_ * -1))"
   ]
  },
  {
   "cell_type": "code",
   "execution_count": 33,
   "metadata": {},
   "outputs": [
    {
     "name": "stdout",
     "output_type": "stream",
     "text": [
      "Время обучения модели LightGBM на тренировочной выборке: 7.50 секунд\n",
      "CPU times: user 7.43 s, sys: 85.3 ms, total: 7.51 s\n",
      "Wall time: 7.5 s\n"
     ]
    }
   ],
   "source": [
    "%%time\n",
    "# Засекаем время обучения модели на всей тренировочной выборке с лучшими параметрами\n",
    "start = time.time()\n",
    "\n",
    "lgbm_model = lgb.LGBMRegressor(num_leaves = lgbm_params['num_leaves'], learning_rate = lgbm_params['learning_rate'], random_state=RANDOM_STATE)\n",
    "lgbm_model.fit(X_train_lgbm, y_train_lgbm)\n",
    "\n",
    "# Время обучения\n",
    "end = time.time()\n",
    "time_lgbm_fit =end-start\n",
    "print(f\"Время обучения модели LightGBM на тренировочной выборке: {time_lgbm_fit:.2f} секунд\")"
   ]
  },
  {
   "cell_type": "code",
   "execution_count": 34,
   "metadata": {},
   "outputs": [
    {
     "name": "stdout",
     "output_type": "stream",
     "text": [
      "Время предсказания модели LightGBM: 0.09 секунд\n",
      "CPU times: user 19.2 ms, sys: 0 ns, total: 19.2 ms\n",
      "Wall time: 92.2 ms\n"
     ]
    }
   ],
   "source": [
    "%%time\n",
    "# Время предсказания модели LightGBM\n",
    "start_time = time.time()\n",
    "y_pred_lgbm = lgbm_model.predict(X_test_lgbm)\n",
    "end_time = time.time()\n",
    "prediction_time_lgbm = end_time - start_time\n",
    "print(f\"Время предсказания модели LightGBM: {prediction_time_lgbm:.2f} секунд\")"
   ]
  },
  {
   "cell_type": "markdown",
   "metadata": {},
   "source": [
    "Лучшие параметры LightGBM: learning_rate: 0.2, num_leaves: 150. Качество модели на кросс-валидации: 26.10. Найденое время обучение и предсказания, а также качество модели на кросс-валидации будем в дальнейшем сравнивать с другими моделями"
   ]
  },
  {
   "cell_type": "markdown",
   "metadata": {},
   "source": [
    "**2. Модель CatBoostRegressor**"
   ]
  },
  {
   "cell_type": "code",
   "execution_count": 35,
   "metadata": {},
   "outputs": [],
   "source": [
    "X_train_cbr = features.copy()\n",
    "y_train_cbr = target.copy()\n",
    "X_test_cbr = test_features.copy()\n",
    "y_test_cbr = test_target.copy()"
   ]
  },
  {
   "cell_type": "code",
   "execution_count": 36,
   "metadata": {},
   "outputs": [
    {
     "name": "stdout",
     "output_type": "stream",
     "text": [
      "0:\tlearn: 28.4112558\ttotal: 52ms\tremaining: 5.14s\n",
      "99:\tlearn: 11.2200114\ttotal: 405ms\tremaining: 0us\n",
      "0:\tlearn: 29.1630294\ttotal: 5.74ms\tremaining: 568ms\n",
      "99:\tlearn: 13.9512001\ttotal: 379ms\tremaining: 0us\n",
      "0:\tlearn: 30.6106942\ttotal: 6.53ms\tremaining: 646ms\n",
      "99:\tlearn: 15.4468551\ttotal: 498ms\tremaining: 0us\n",
      "0:\tlearn: 31.9628615\ttotal: 7.02ms\tremaining: 695ms\n",
      "99:\tlearn: 16.7403026\ttotal: 514ms\tremaining: 0us\n",
      "0:\tlearn: 33.2424271\ttotal: 6.98ms\tremaining: 691ms\n",
      "99:\tlearn: 18.3561988\ttotal: 567ms\tremaining: 0us\n",
      "0:\tlearn: 24.9853515\ttotal: 4.02ms\tremaining: 398ms\n",
      "99:\tlearn: 3.9229012\ttotal: 360ms\tremaining: 0us\n",
      "0:\tlearn: 26.1372630\ttotal: 4.72ms\tremaining: 467ms\n",
      "99:\tlearn: 6.9849202\ttotal: 398ms\tremaining: 0us\n",
      "0:\tlearn: 26.9350909\ttotal: 5.32ms\tremaining: 527ms\n",
      "99:\tlearn: 8.7709508\ttotal: 472ms\tremaining: 0us\n",
      "0:\tlearn: 28.2957578\ttotal: 5.61ms\tremaining: 555ms\n",
      "99:\tlearn: 11.3187464\ttotal: 526ms\tremaining: 0us\n",
      "0:\tlearn: 29.2005291\ttotal: 6.31ms\tremaining: 625ms\n",
      "99:\tlearn: 12.3682485\ttotal: 585ms\tremaining: 0us\n",
      "0:\tlearn: 21.3569942\ttotal: 15.4ms\tremaining: 1.52s\n",
      "99:\tlearn: 0.3148142\ttotal: 1.15s\tremaining: 0us\n",
      "0:\tlearn: 21.6972134\ttotal: 22.3ms\tremaining: 2.21s\n",
      "99:\tlearn: 1.1381532\ttotal: 1.32s\tremaining: 0us\n",
      "0:\tlearn: 23.4178038\ttotal: 25ms\tremaining: 2.48s\n",
      "99:\tlearn: 1.9985008\ttotal: 2.05s\tremaining: 0us\n",
      "0:\tlearn: 24.4282801\ttotal: 26.9ms\tremaining: 2.66s\n",
      "99:\tlearn: 3.0312437\ttotal: 2.21s\tremaining: 0us\n",
      "0:\tlearn: 24.9966067\ttotal: 27.3ms\tremaining: 2.71s\n",
      "99:\tlearn: 4.5962301\ttotal: 2.49s\tremaining: 0us\n",
      "0:\tlearn: 37.0068964\ttotal: 7.04ms\tremaining: 697ms\n",
      "99:\tlearn: 20.0576331\ttotal: 602ms\tremaining: 0us\n",
      "\n",
      "Лучшие параметры: {'random_state': 42, 'learning_rate': 0.1, 'depth': 6}\n",
      "Метрика RMSE, полученная с помощью кросс валидации: 24.99820499479183\n"
     ]
    }
   ],
   "source": [
    "model_2 = CatBoostRegressor(iterations=100, verbose=100)\n",
    "\n",
    "param_grid_cbr = {\n",
    "    'learning_rate': [0.1, 0.4, 0.9],\n",
    "    'random_state': [42],\n",
    "    'depth': [6, 8]\n",
    "}\n",
    "\n",
    "random_search_cbr = RandomizedSearchCV(\n",
    "    model_2, \n",
    "    param_distributions=param_grid_cbr, \n",
    "    scoring='neg_root_mean_squared_error', \n",
    "    random_state=RANDOM_STATE,\n",
    "    n_iter=3,\n",
    "    cv=tscv,\n",
    "    n_jobs=-1\n",
    ")\n",
    "\n",
    "random_search_cbr.fit(X_train_cbr, y_train_cbr, cat_features=cat_features)\n",
    "\n",
    "cbr_params = random_search_cbr.best_params_\n",
    "\n",
    "# Вывод лучших параметров и значения метрики\n",
    "print()\n",
    "print(\"Лучшие параметры:\", cbr_params)\n",
    "print(\"Метрика RMSE, полученная с помощью кросс валидации:\", (random_search_cbr.best_score_ * -1))"
   ]
  },
  {
   "cell_type": "code",
   "execution_count": 37,
   "metadata": {},
   "outputs": [
    {
     "name": "stdout",
     "output_type": "stream",
     "text": [
      "0:\tlearn: 37.0068964\ttotal: 6.98ms\tremaining: 691ms\n",
      "99:\tlearn: 20.0576331\ttotal: 618ms\tremaining: 0us\n",
      "Время обучения модели CatBoostRegressor на тренировочной выборке: 1.42 секунд\n",
      "CPU times: user 634 ms, sys: 19.2 ms, total: 653 ms\n",
      "Wall time: 1.42 s\n"
     ]
    }
   ],
   "source": [
    "%%time\n",
    "# Засекаем время обучения модели на всей тренировочной выборке с лучшими параметрами\n",
    "start = time.time()\n",
    "\n",
    "cbr_model = CatBoostRegressor(random_state = cbr_params['random_state'], learning_rate = cbr_params['learning_rate'], depth = cbr_params['depth'], iterations=100, verbose=100)\n",
    "cbr_model.fit(X_train_cbr, y_train_cbr, cat_features=cat_features)\n",
    "\n",
    "# Время обучения\n",
    "end = time.time()\n",
    "time_cbr_fit =end-start\n",
    "print(f\"Время обучения модели CatBoostRegressor на тренировочной выборке: {time_cbr_fit:.2f} секунд\")"
   ]
  },
  {
   "cell_type": "code",
   "execution_count": 38,
   "metadata": {},
   "outputs": [
    {
     "name": "stdout",
     "output_type": "stream",
     "text": [
      "Время предсказания модели CatBoostRegressor: 0.00 секунд\n",
      "CPU times: user 0 ns, sys: 3.43 ms, total: 3.43 ms\n",
      "Wall time: 2.54 ms\n"
     ]
    }
   ],
   "source": [
    "%%time\n",
    "# Время предсказания модели CatBoostRegressor\n",
    "start_time = time.time()\n",
    "y_pred_cbr = cbr_model.predict(X_test_cbr)\n",
    "end_time = time.time()\n",
    "prediction_time_cbr = end_time - start_time\n",
    "print(f\"Время предсказания модели CatBoostRegressor: {prediction_time_cbr:.2f} секунд\")"
   ]
  },
  {
   "cell_type": "markdown",
   "metadata": {},
   "source": [
    "Мы провели обучение модели CatBoostRegressor с использованием оптимальных гиперпараметров: random_state установлен в 42, learning_rate равен 0.1, а depth составляет 6. Качество модели на кросс-валидации: 24.99. Найденое время обучение и предсказания, а также качество модели на кросс-валидации будем в дальнейшем сравнивать с другими моделями"
   ]
  },
  {
   "cell_type": "markdown",
   "metadata": {},
   "source": [
    "**3. Модель LinearRegression**"
   ]
  },
  {
   "cell_type": "code",
   "execution_count": 39,
   "metadata": {},
   "outputs": [],
   "source": [
    "X_train_lr = features.copy()\n",
    "y_train_lr = target.copy()\n",
    "X_test_lr = test_features.copy()\n",
    "y_test_lr = test_target.copy()"
   ]
  },
  {
   "cell_type": "code",
   "execution_count": 40,
   "metadata": {},
   "outputs": [],
   "source": [
    "ohe_columns = cat_features\n",
    "num_columns = num_features"
   ]
  },
  {
   "cell_type": "code",
   "execution_count": 41,
   "metadata": {},
   "outputs": [],
   "source": [
    "# создадим пайплайн для OneHotEncoder:\n",
    "ohe_pipe = Pipeline(\n",
    "    [\n",
    "        (\n",
    "            'simpleImputer_ohe', \n",
    "            SimpleImputer(missing_values=np.nan, strategy='most_frequent')\n",
    "        ),\n",
    "        (\n",
    "            'ohe', \n",
    "            OneHotEncoder(drop='first', handle_unknown='ignore', sparse=False))\n",
    "    ]\n",
    ")"
   ]
  },
  {
   "cell_type": "markdown",
   "metadata": {},
   "source": [
    "Поскольку у нас данные из одного временного ряда, сдвинутые на несколько часов, все значения имеют одинаковый масштаб. И поэтому масштабирование данных можно пропустить, т.к. все наши признаки уже находятся в одном диапазоне или измеряются в схожих единицах."
   ]
  },
  {
   "cell_type": "code",
   "execution_count": 42,
   "metadata": {},
   "outputs": [],
   "source": [
    "data_preprocessor = ColumnTransformer(\n",
    "    [\n",
    "        ('ohe', ohe_pipe, ohe_columns)\n",
    "    ], \n",
    "    remainder='passthrough'\n",
    ")"
   ]
  },
  {
   "cell_type": "code",
   "execution_count": 43,
   "metadata": {},
   "outputs": [],
   "source": [
    "pipe_final_lr = Pipeline(\n",
    "    [\n",
    "        ('preprocessor', data_preprocessor),\n",
    "        ('model', LinearRegression())\n",
    "    ]\n",
    ")"
   ]
  },
  {
   "cell_type": "code",
   "execution_count": 44,
   "metadata": {},
   "outputs": [
    {
     "name": "stdout",
     "output_type": "stream",
     "text": [
      "\n",
      "Лучшие параметры: {'model__n_jobs': 1, 'model__fit_intercept': False, 'model__copy_X': True, 'model': LinearRegression(fit_intercept=False, n_jobs=1)}\n",
      "Метрика RMSE, полученная с помощью кросс валидации: 32.69763828797873\n"
     ]
    }
   ],
   "source": [
    "# Гиперпараметры для LinearRegression\n",
    "param_grid_lr = {\n",
    "    'model': [LinearRegression()],\n",
    "    'model__fit_intercept': [True, False],\n",
    "    'model__copy_X': [True, False],\n",
    "    'model__n_jobs': [1, -1]\n",
    "}\n",
    "\n",
    "random_search_lr = RandomizedSearchCV(\n",
    "    pipe_final_lr, \n",
    "    param_distributions=param_grid_lr, \n",
    "    cv=tscv,\n",
    "    scoring='neg_root_mean_squared_error', \n",
    "    random_state=RANDOM_STATE,\n",
    "    n_iter=8,\n",
    "    n_jobs=-1\n",
    ")\n",
    "\n",
    "random_search_lr.fit(X_train_lr, y_train_lr)\n",
    "\n",
    "lr_params = random_search_lr.best_params_\n",
    "\n",
    "# Вывод лучших параметров и значения метрики\n",
    "print()\n",
    "print(\"Лучшие параметры:\", lr_params)\n",
    "print(\"Метрика RMSE, полученная с помощью кросс валидации:\", (random_search_lr.best_score_ * -1))"
   ]
  },
  {
   "cell_type": "code",
   "execution_count": 45,
   "metadata": {},
   "outputs": [
    {
     "name": "stdout",
     "output_type": "stream",
     "text": [
      "Время обучения модели LinearRegression на тренировочной выборке: 0.11 секунд\n",
      "CPU times: user 52 ms, sys: 66.7 ms, total: 119 ms\n",
      "Wall time: 110 ms\n"
     ]
    }
   ],
   "source": [
    "%%time\n",
    "# Засекаем время обучения модели на всей тренировочной выборке с лучшими параметрами\n",
    "start = time.time()\n",
    "\n",
    "# Создаем переменную с моделью с лучшими параметрами\n",
    "lr_model = random_search_lr.best_estimator_\n",
    "\n",
    "lr_model.fit(X_train_lr, y_train_lr)\n",
    "\n",
    "# Время обучения\n",
    "end = time.time()\n",
    "time_lr_fit =end-start\n",
    "print(f\"Время обучения модели LinearRegression на тренировочной выборке: {time_lr_fit:.2f} секунд\")"
   ]
  },
  {
   "cell_type": "code",
   "execution_count": 46,
   "metadata": {},
   "outputs": [
    {
     "name": "stdout",
     "output_type": "stream",
     "text": [
      "Время предсказания модели LinearRegression: 0.09 секунд\n",
      "CPU times: user 43.1 ms, sys: 45.3 ms, total: 88.4 ms\n",
      "Wall time: 90.2 ms\n"
     ]
    }
   ],
   "source": [
    "%%time\n",
    "# Время предсказания модели LinearRegression\n",
    "start_time = time.time()\n",
    "y_pred_lr = lr_model.predict(X_test_lr)\n",
    "end_time = time.time()\n",
    "prediction_time_lr = end_time - start_time\n",
    "print(f\"Время предсказания модели LinearRegression: {prediction_time_lr:.2f} секунд\")"
   ]
  },
  {
   "cell_type": "markdown",
   "metadata": {},
   "source": [
    "Мы провели обучение модели LinearRegression с использованием оптимальных гиперпараметров: fit_intercept установлен в False, copy_X равен True, а n_jobs составляет 1. Качество модели на кросс-валидации: 32.69. Найденное время обучения и предсказания, а также качество модели на кросс-валидации будут в дальнейшем сравниваться с другими моделями"
   ]
  },
  {
   "cell_type": "markdown",
   "metadata": {},
   "source": [
    "**4. Модель DecisionTreeRegressor**"
   ]
  },
  {
   "cell_type": "code",
   "execution_count": 47,
   "metadata": {},
   "outputs": [],
   "source": [
    "X_train_dt = features.copy()\n",
    "y_train_dt = target.copy()\n",
    "X_test_dt = test_features.copy()\n",
    "y_test_dt = test_target.copy()"
   ]
  },
  {
   "cell_type": "code",
   "execution_count": 48,
   "metadata": {},
   "outputs": [],
   "source": [
    "pipe_final_dt = Pipeline(\n",
    "    [\n",
    "        ('preprocessor', data_preprocessor),\n",
    "        ('model', DecisionTreeRegressor(random_state=RANDOM_STATE))\n",
    "    ]\n",
    ")"
   ]
  },
  {
   "cell_type": "code",
   "execution_count": 49,
   "metadata": {},
   "outputs": [
    {
     "name": "stdout",
     "output_type": "stream",
     "text": [
      "\n",
      "Лучшие параметры: {'model__min_samples_split': 2, 'model__max_depth': 5}\n",
      "Метрика RMSE, полученная с помощью кросс валидации: 30.235943258369808\n"
     ]
    }
   ],
   "source": [
    "# Гиперпараметры для DecisionTreeRegressor\n",
    "param_grid_dt = {\n",
    "    'model__max_depth': [5, 10, 20], \n",
    "    'model__min_samples_split': [2, 5]\n",
    "}\n",
    "\n",
    "random_search_dt = RandomizedSearchCV(\n",
    "    pipe_final_dt, \n",
    "    param_distributions=param_grid_dt, \n",
    "    scoring='neg_root_mean_squared_error', \n",
    "    random_state=RANDOM_STATE,\n",
    "    n_iter=5,  \n",
    "    cv=tscv,     \n",
    "    n_jobs=-1  \n",
    ")\n",
    "\n",
    "random_search_dt.fit(X_train_dt, y_train_dt)\n",
    "\n",
    "dt_params = random_search_dt.best_params_\n",
    "\n",
    "# Вывод лучших параметров и значения метрики\n",
    "print()\n",
    "print(\"Лучшие параметры:\", dt_params)\n",
    "print(\"Метрика RMSE, полученная с помощью кросс валидации:\", (random_search_dt.best_score_ * -1))"
   ]
  },
  {
   "cell_type": "code",
   "execution_count": 50,
   "metadata": {},
   "outputs": [
    {
     "name": "stdout",
     "output_type": "stream",
     "text": [
      "Время обучения модели DecisionTreeRegressor на тренировочной выборке: 0.05 секунд\n",
      "CPU times: user 48.8 ms, sys: 110 µs, total: 48.9 ms\n",
      "Wall time: 46.4 ms\n"
     ]
    }
   ],
   "source": [
    "%%time\n",
    "# Засекаем время обучения модели на всей тренировочной выборке с лучшими параметрами\n",
    "start = time.time()\n",
    "\n",
    "# Создаем переменную с моделью с лучшими параметрами\n",
    "dt_model = random_search_dt.best_estimator_\n",
    "\n",
    "dt_model.fit(X_train_dt, y_train_dt)\n",
    "\n",
    "# Время обучения\n",
    "end = time.time()\n",
    "time_dt_fit =end-start\n",
    "print(f\"Время обучения модели DecisionTreeRegressor на тренировочной выборке: {time_dt_fit:.2f} секунд\")"
   ]
  },
  {
   "cell_type": "code",
   "execution_count": 51,
   "metadata": {},
   "outputs": [
    {
     "name": "stdout",
     "output_type": "stream",
     "text": [
      "Время предсказания модели DecisionTreeRegressor: 0.01 секунд\n",
      "CPU times: user 984 µs, sys: 7.56 ms, total: 8.55 ms\n",
      "Wall time: 6.75 ms\n"
     ]
    }
   ],
   "source": [
    "%%time\n",
    "# Время предсказания модели DecisionTreeRegressor\n",
    "start_time = time.time()\n",
    "y_pred_dt = dt_model.predict(X_test_dt)\n",
    "end_time = time.time()\n",
    "prediction_time_dt = end_time - start_time\n",
    "print(f\"Время предсказания модели DecisionTreeRegressor: {prediction_time_dt:.2f} секунд\")"
   ]
  },
  {
   "cell_type": "markdown",
   "metadata": {},
   "source": [
    "Мы обучили модель DecisionTreeRegressor, используя оптимальные гиперпараметры: min_samples_split установлен на 2, а max_depth составляет 5. Качество модели на кросс-валидации составило 30.23. Найденное время обучения и предсказания, а также это значение метрики будут сравниваться с другими моделями"
   ]
  },
  {
   "cell_type": "markdown",
   "metadata": {},
   "source": [
    "**5. Модель RandomForestRegressor**"
   ]
  },
  {
   "cell_type": "code",
   "execution_count": 52,
   "metadata": {},
   "outputs": [],
   "source": [
    "X_train_rf = features.copy()\n",
    "y_train_rf = target.copy()\n",
    "X_test_rf = test_features.copy()\n",
    "y_test_rf = test_target.copy()"
   ]
  },
  {
   "cell_type": "code",
   "execution_count": 53,
   "metadata": {},
   "outputs": [],
   "source": [
    "pipe_final_rf = Pipeline(\n",
    "    [\n",
    "        ('preprocessor', data_preprocessor),\n",
    "        ('model', RandomForestRegressor(random_state=RANDOM_STATE))\n",
    "    ]\n",
    ")"
   ]
  },
  {
   "cell_type": "code",
   "execution_count": 54,
   "metadata": {},
   "outputs": [
    {
     "name": "stdout",
     "output_type": "stream",
     "text": [
      "\n",
      "Лучшие параметры: {'model__n_estimators': 150, 'model__max_depth': 10}\n",
      "Метрика RMSE, полученная с помощью кросс валидации: 25.813855716671696\n"
     ]
    }
   ],
   "source": [
    "# Гиперпараметры для RandomForestRegressor\n",
    "param_grid_rf = {\n",
    "    'model__max_depth': [1, 5, 10], \n",
    "    'model__n_estimators': [100, 150, 10]\n",
    "}\n",
    "\n",
    "random_search_rf = RandomizedSearchCV(\n",
    "    pipe_final_rf, \n",
    "    param_distributions=param_grid_rf, \n",
    "    scoring='neg_root_mean_squared_error', \n",
    "    random_state=RANDOM_STATE,\n",
    "    n_iter=5,  \n",
    "    cv=tscv,     \n",
    "    n_jobs=-1  \n",
    ")\n",
    "\n",
    "random_search_rf.fit(X_train_rf, y_train_rf)\n",
    "\n",
    "rf_params = random_search_rf.best_params_\n",
    "\n",
    "# Вывод лучших параметров и значения метрики\n",
    "print()\n",
    "print(\"Лучшие параметры:\", rf_params)\n",
    "print(\"Метрика RMSE, полученная с помощью кросс валидации:\", (random_search_rf.best_score_ * -1))"
   ]
  },
  {
   "cell_type": "code",
   "execution_count": 55,
   "metadata": {},
   "outputs": [
    {
     "name": "stdout",
     "output_type": "stream",
     "text": [
      "Время обучения модели RandomForestRegressor на тренировочной выборке: 6.27 секунд\n",
      "CPU times: user 6.26 s, sys: 4.35 ms, total: 6.26 s\n",
      "Wall time: 6.27 s\n"
     ]
    }
   ],
   "source": [
    "%%time\n",
    "# Засекаем время обучения модели на всей тренировочной выборке с лучшими параметрами\n",
    "start = time.time()\n",
    "\n",
    "# Создаем переменную с моделью с лучшими параметрами\n",
    "rf_model = random_search_rf.best_estimator_\n",
    "\n",
    "rf_model.fit(X_train_rf, y_train_rf)\n",
    "\n",
    "# Время обучения\n",
    "end = time.time()\n",
    "time_rf_fit =end-start\n",
    "print(f\"Время обучения модели RandomForestRegressor на тренировочной выборке: {time_rf_fit:.2f} секунд\")"
   ]
  },
  {
   "cell_type": "code",
   "execution_count": 56,
   "metadata": {},
   "outputs": [
    {
     "name": "stdout",
     "output_type": "stream",
     "text": [
      "Время предсказания модели RandomForestRegressor: 0.02 секунд\n",
      "CPU times: user 20.9 ms, sys: 50 µs, total: 21 ms\n",
      "Wall time: 19.4 ms\n"
     ]
    }
   ],
   "source": [
    "%%time\n",
    "# Время предсказания модели RandomForestRegressor\n",
    "start_time = time.time()\n",
    "y_pred_rf = rf_model.predict(X_test_rf)\n",
    "end_time = time.time()\n",
    "prediction_time_rf = end_time - start_time\n",
    "print(f\"Время предсказания модели RandomForestRegressor: {prediction_time_rf:.2f} секунд\")"
   ]
  },
  {
   "cell_type": "markdown",
   "metadata": {},
   "source": [
    "Мы обучили модель RandomForestRegressor, используя оптимальные гиперпараметры: количество деревьев (n_estimators) установлено на 150, а максимальная глубина дерева (max_depth) составляет 10. Качество модели на кросс-валидации составило 25.81 RMSE. Время обучения и предсказания, а также это значение метрики будут сравниваться с другими моделями."
   ]
  },
  {
   "cell_type": "markdown",
   "metadata": {},
   "source": [
    "Итак, в этой части работы мы обучили несколько моделей машинного. Для каждой из моделей были проведены подбор и настройка гиперпараметров, что позволило улучшить качество предсказаний. В итоге нами были рассмотрены следующие модели: LightGBM, LinearRegression, DecisionTreeRegressor, CatBoostRegressor и RandomForestRegressor. Мы использовали кросс-валидацию для нахождения оптимальных гиперпараметров модели и определения ее качества. Затем мы измерили время обучения модели на всей тренировочной выборке. После этого также замерили время предсказания модели на тестовой выборке."
   ]
  },
  {
   "cell_type": "markdown",
   "metadata": {},
   "source": [
    "## Тестирование"
   ]
  },
  {
   "cell_type": "markdown",
   "metadata": {},
   "source": [
    "Составим таблицу, отражающую все найденные результаты "
   ]
  },
  {
   "cell_type": "code",
   "execution_count": 57,
   "metadata": {},
   "outputs": [],
   "source": [
    "lr_rmse_train = random_search_lr.best_score_ * -1\n",
    "lgbm_rmse_train = grid_search_lgbm.best_score_ * -1\n",
    "cbr_rmse_train = random_search_cbr.best_score_ * -1\n",
    "dt_rmse_train = random_search_dt.best_score_ * -1\n",
    "rf_rmse_train = random_search_rf.best_score_ * -1"
   ]
  },
  {
   "cell_type": "code",
   "execution_count": 58,
   "metadata": {},
   "outputs": [
    {
     "data": {
      "text/html": [
       "<div>\n",
       "<style scoped>\n",
       "    .dataframe tbody tr th:only-of-type {\n",
       "        vertical-align: middle;\n",
       "    }\n",
       "\n",
       "    .dataframe tbody tr th {\n",
       "        vertical-align: top;\n",
       "    }\n",
       "\n",
       "    .dataframe thead th {\n",
       "        text-align: right;\n",
       "    }\n",
       "</style>\n",
       "<table border=\"1\" class=\"dataframe\">\n",
       "  <thead>\n",
       "    <tr style=\"text-align: right;\">\n",
       "      <th></th>\n",
       "      <th>Модель</th>\n",
       "      <th>RMSE</th>\n",
       "      <th>Время предсказания (сек)</th>\n",
       "      <th>Время обучения (сек)</th>\n",
       "    </tr>\n",
       "  </thead>\n",
       "  <tbody>\n",
       "    <tr>\n",
       "      <th>0</th>\n",
       "      <td>Linear Regression</td>\n",
       "      <td>32.697638</td>\n",
       "      <td>0.089995</td>\n",
       "      <td>0.109784</td>\n",
       "    </tr>\n",
       "    <tr>\n",
       "      <th>1</th>\n",
       "      <td>LightGBM</td>\n",
       "      <td>26.104476</td>\n",
       "      <td>0.091709</td>\n",
       "      <td>7.500795</td>\n",
       "    </tr>\n",
       "    <tr>\n",
       "      <th>2</th>\n",
       "      <td>CatBoostRegressor</td>\n",
       "      <td>24.998205</td>\n",
       "      <td>0.002427</td>\n",
       "      <td>1.421870</td>\n",
       "    </tr>\n",
       "    <tr>\n",
       "      <th>3</th>\n",
       "      <td>DecisionTreeRegressor</td>\n",
       "      <td>30.235943</td>\n",
       "      <td>0.006596</td>\n",
       "      <td>0.045926</td>\n",
       "    </tr>\n",
       "    <tr>\n",
       "      <th>4</th>\n",
       "      <td>RandomForestRegressor</td>\n",
       "      <td>25.813856</td>\n",
       "      <td>0.019258</td>\n",
       "      <td>6.267925</td>\n",
       "    </tr>\n",
       "  </tbody>\n",
       "</table>\n",
       "</div>"
      ],
      "text/plain": [
       "                  Модель       RMSE  Время предсказания (сек)  \\\n",
       "0      Linear Regression  32.697638                  0.089995   \n",
       "1               LightGBM  26.104476                  0.091709   \n",
       "2      CatBoostRegressor  24.998205                  0.002427   \n",
       "3  DecisionTreeRegressor  30.235943                  0.006596   \n",
       "4  RandomForestRegressor  25.813856                  0.019258   \n",
       "\n",
       "   Время обучения (сек)  \n",
       "0              0.109784  \n",
       "1              7.500795  \n",
       "2              1.421870  \n",
       "3              0.045926  \n",
       "4              6.267925  "
      ]
     },
     "execution_count": 58,
     "metadata": {},
     "output_type": "execute_result"
    }
   ],
   "source": [
    "# Создание DataFrame с нашими результатами\n",
    "results = pd.DataFrame({\n",
    "    'Модель': ['Linear Regression', 'LightGBM', 'CatBoostRegressor', 'DecisionTreeRegressor', 'RandomForestRegressor'],\n",
    "    'RMSE': [lr_rmse_train, lgbm_rmse_train, cbr_rmse_train, dt_rmse_train, rf_rmse_train],\n",
    "    'Время предсказания (сек)': [prediction_time_lr, prediction_time_lgbm, prediction_time_cbr, prediction_time_dt, prediction_time_rf],\n",
    "    'Время обучения (сек)': [time_lr_fit, time_lgbm_fit, time_cbr_fit, time_dt_fit, time_rf_fit]  \n",
    "})\n",
    "\n",
    "# Вывод результатов\n",
    "results"
   ]
  },
  {
   "cell_type": "markdown",
   "metadata": {},
   "source": [
    "У модели Linear Regression высокая ошибка, поэтому она не является лучшей по качеству предсказаний. LightGBM имеет хорошее качество предсказаний (меньше RMSE, чем у линейной регрессии), но время обучения значительно больше. CatBoostRegressor демонстрирует низкую ошибку и быстрое время предсказания. Время обучения тоже относительно хорошее. У модели DecisionTreeRegressor значение ошибки выше, чем у CatBoost и LightGBM, но время предсказания и обучение — низкие. RandomForestRegressor также имеет хорошее качество предсказаний, но время обучения выше, чем у CatBoost и DecisionTree.\n",
    "\n",
    "CatBoostRegressor выглядит лучшим выбором среди рассмотренных моделей, так как: имеет одну из самых низких ошибок (RMSE = 24.998), время предсказания минимальное и время обучения тоже хорошее, что позволяет эффективно работать с моделью. Таким образом, CatBoostRegressor сочетает в себе высокое качество и эффективность, что делает её лучшей моделью."
   ]
  },
  {
   "cell_type": "markdown",
   "metadata": {},
   "source": [
    "Найдем значение rmse на тестовой выборке для модели CatBoostRegressor:"
   ]
  },
  {
   "cell_type": "code",
   "execution_count": 59,
   "metadata": {},
   "outputs": [
    {
     "name": "stdout",
     "output_type": "stream",
     "text": [
      "RMSE CatBoostRegressor на тестовой выборке: 42.92\n"
     ]
    }
   ],
   "source": [
    "# Оценка качества модели CatBoostRegressor на тестовой выборке\n",
    "rmse_test_cbr = np.sqrt(mean_squared_error(y_test_cbr, y_pred_cbr))\n",
    "print(\"RMSE CatBoostRegressor на тестовой выборке: %.2f\" % rmse_test_cbr)"
   ]
  },
  {
   "cell_type": "markdown",
   "metadata": {},
   "source": [
    "Теперь визуализируем результаты модели. Построим графики для реальных и предсказанных значений для нашей лучшей модели."
   ]
  },
  {
   "cell_type": "code",
   "execution_count": 60,
   "metadata": {},
   "outputs": [
    {
     "data": {
      "image/png": "[encoded data removed]",
      "text/plain": [
       "<Figure size 864x504 with 1 Axes>"
      ]
     },
     "metadata": {
      "needs_background": "light"
     },
     "output_type": "display_data"
    }
   ],
   "source": [
    "# Визуализация результатов\n",
    "plt.figure(figsize=(12, 7))\n",
    "plt.plot(y_test_cbr.index, y_test_cbr, 'g-', label='Реальные значения')  \n",
    "plt.plot(y_test_cbr.index, y_pred_cbr, 'm-', label='Предсказанные значения') \n",
    "plt.title('Реальные и предсказанные значения для модели CatBoostRegressor')\n",
    "plt.xlabel('Дата')\n",
    "plt.ylabel('Количество заказов')\n",
    "plt.legend()\n",
    "plt.grid(True)\n",
    "plt.xticks(rotation=45)\n",
    "plt.tight_layout()\n",
    "plt.show()"
   ]
  },
  {
   "cell_type": "markdown",
   "metadata": {},
   "source": [
    "По графику выше видно, что модель CatBoostRegressor склонна недооценивать значения, однако даже при этом, модель удовлетворяет требованию, что значение RMSE на тестовой выборке должно быть не больше 48."
   ]
  },
  {
   "cell_type": "markdown",
   "metadata": {},
   "source": [
    "Итак, в данном шаге мы провели анализ нескольких моделей машинного обучения. Мы сравнили пять моделей и составили рейтинг точности моделей: Linear Regression, LightGBM, CatBoostRegressor, DecisionTreeRegressor и RandomForestRegressor по следующим критериям: метрика RMSE, полученная на обучающих данных с помощью кросс валидации, время обучения и время предсказания.  \n",
    "   \n",
    "Мы наблюдаем, что Linear Regression имеет высокое значение RMSE, что делает её непригодной для данной задачи из-за низкой точности предсказаний. LightGBM показала хорошие результаты с более низким RMSE по сравнению с линейной регрессией, но её время обучения значительно выше, что может быть проблемой при работе с большими данными. CatBoostRegressor продемонстрировал низкий RMSE, хорошее качество предсказаний и быстрое время обучения и предсказания, что делает её наиболее эффективной моделью по качеству и скорости. DecisionTreeRegressor имеет более высокое RMSE, но её время обучения и предсказания минимально, что делает её подходящей для задач с ограничениями по времени. RandomForestRegressor показал хорошие результаты по качеству предсказаний, но время обучения оказалось выше, чем у CatBoost и DecisionTree, что снижает его эффективность.\n",
    "\n",
    "Согласно этому рейтингу, лучшей моделью стала CatBoostRegressor. Мы также проверили ее работу на тестовых данных. Результат предсказания на тестовой выборке для модели CatBoostRegressor составил 42.92, что укладывается в установленные нам требования, что значение RMSE не должно превышать 48. После обучения модели CatBoostRegressor, также был построен график, на котором сравнивались реальные и предсказанные значения. По графику видно, что модель склонна немного недооценивать значения."
   ]
  },
  {
   "cell_type": "markdown",
   "metadata": {},
   "source": [
    "## Итоговый вывод"
   ]
  },
  {
   "cell_type": "markdown",
   "metadata": {},
   "source": [
    "В данной работе мы провели полный цикл анализа и моделирования временного ряда данных, что включало подготовку данных, анализ сезонных и трендовых компонентов, а также обучение нескольких моделей машинного обучения с выбором лучшей их них для предсказания количества заказов такси.\n",
    "\n",
    "На начальном этапе данные были приведены в формат, пригодный для анализа временного ряда. Датасет, состоящий из столбцов datetime и num_orders, был преобразован: столбец datetime был изменен на тип datetime64, а затем установлен в качестве индекса. После этих преобразований данные приняли вид временного ряда с записью каждые 10 минут, охватывающего период с марта по август 2018 года. Мы проверили монотонность временного ряда, убедившись, что данные расположены в хронологическом порядке, и выполнили ресемплирование с интервалом в один час, суммируя значения заказов в каждой группе. Этот шаг позволил нам подготовить датасет для дальнейшего анализа и моделирования.\n",
    "\n",
    "Для более глубокого понимания структуры данных мы проанализировали компоненты временного ряда: тренд, сезонность и остатки. Сначала был выявлен общий тренд на увеличение количества заказов, что может свидетельствовать об общем росте спроса на услуги такси. В ходе анализа сезонности были обнаружены четкие циклы в недельной и суточной активности, с пиками в утренние и вечерние часы и колебаниями спроса по дням недели. Этот анализ подтвердил, что потребность в такси следует закономерностям повседневной жизни и зависит от ритма будней и выходных. \n",
    "\n",
    "В следующей части работы мы приступили к обучению нескольких моделей, настраивая их для достижения наилучшего качества предсказаний. Были протестированы модели LightGBM, LinearRegression, DecisionTreeRegressor, CatBoostRegressor и RandomForestRegressor. В ходе настройки мы использовали кросс-валидацию, чтобы найти оптимальные гиперпараметры для каждой модели. Мы оценивали точность с помощью метрики RMSE, а также учитывали время обучения и время предсказания на тестовой выборке. Это позволило нам составить рейтинг моделей по их эффективности.\n",
    "\n",
    "Анализ результатов показал, что модель линейной регрессии продемонстрировала низкую точность, что делает её менее пригодной для данной задачи. LightGBM показала хорошие результаты, однако время обучения было относительно высоким. CatBoostRegressor продемонстрировала лучшие показатели по качеству предсказаний, а также по скорости обучения и предсказания, что делает её наиболее эффективной моделью. DecisionTreeRegressor имела минимальное время обучения и предсказания, но более высокое значение RMSE, подходя для задач, требующих быстрой результативности. RandomForestRegressor, хоть и показал высокую точность, оказался менее эффективен по времени обучения.\n",
    "\n",
    "Лучшей моделью мы выбрали CatBoostRegressor, которая обеспечила значение RMSE на тестовой выборке 42.92, что укладывается в установленное требование (RMSE < 48). На итоговом графике сравнили предсказанные и реальные значения и заметили, что модель несколько недооценивает значения, но сохраняет общую динамику. Этот результат свидетельствует о том, что наша модель машинного обучения может использоваться для прогнозирования количества заказов такси, что позволит более эффективно привлекать водителей в периоды повышенного спроса, обеспечивая их своевременное присутствие в нужные моменты, а также более точно планировать ресурсы, оптимизировать обслуживание и улучшить управление бизнесом."
   ]
  }
 ],
 "metadata": {
  "ExecuteTimeLog": [
   {
    "duration": 12262,
    "start_time": "2024-11-03T23:47:30.963Z"
   },
   {
    "duration": 107,
    "start_time": "2024-11-03T23:48:41.314Z"
   },
   {
    "duration": 121,
    "start_time": "2024-11-03T23:48:55.147Z"
   },
   {
    "duration": 17,
    "start_time": "2024-11-03T23:49:05.116Z"
   },
   {
    "duration": 77,
    "start_time": "2024-11-04T00:08:13.378Z"
   },
   {
    "duration": 6,
    "start_time": "2024-11-04T00:08:37.223Z"
   },
   {
    "duration": 4,
    "start_time": "2024-11-04T00:10:15.438Z"
   },
   {
    "duration": 16,
    "start_time": "2024-11-04T00:11:53.204Z"
   },
   {
    "duration": 8,
    "start_time": "2024-11-04T00:14:48.315Z"
   },
   {
    "duration": 14,
    "start_time": "2024-11-04T00:16:56.655Z"
   },
   {
    "duration": 3,
    "start_time": "2024-11-04T00:20:40.771Z"
   },
   {
    "duration": 11,
    "start_time": "2024-11-04T00:20:43.463Z"
   },
   {
    "duration": 5074,
    "start_time": "2024-11-04T00:20:47.917Z"
   },
   {
    "duration": 43,
    "start_time": "2024-11-04T00:20:52.993Z"
   },
   {
    "duration": 64,
    "start_time": "2024-11-04T00:20:53.038Z"
   },
   {
    "duration": 40,
    "start_time": "2024-11-04T00:20:53.103Z"
   },
   {
    "duration": 82,
    "start_time": "2024-11-04T00:20:53.145Z"
   },
   {
    "duration": 30,
    "start_time": "2024-11-04T00:20:53.229Z"
   },
   {
    "duration": 7,
    "start_time": "2024-11-04T00:20:53.261Z"
   },
   {
    "duration": 17,
    "start_time": "2024-11-04T00:20:53.269Z"
   },
   {
    "duration": 14,
    "start_time": "2024-11-04T00:22:58.723Z"
   },
   {
    "duration": 5197,
    "start_time": "2024-11-04T00:24:39.021Z"
   },
   {
    "duration": 45,
    "start_time": "2024-11-04T00:24:44.222Z"
   },
   {
    "duration": 18,
    "start_time": "2024-11-04T00:24:44.268Z"
   },
   {
    "duration": 8,
    "start_time": "2024-11-04T00:24:44.287Z"
   },
   {
    "duration": 36,
    "start_time": "2024-11-04T00:24:44.297Z"
   },
   {
    "duration": 15,
    "start_time": "2024-11-04T00:24:44.334Z"
   },
   {
    "duration": 11,
    "start_time": "2024-11-04T00:24:44.350Z"
   },
   {
    "duration": 15,
    "start_time": "2024-11-04T00:24:44.362Z"
   },
   {
    "duration": 2,
    "start_time": "2024-11-04T00:45:15.035Z"
   },
   {
    "duration": 5068,
    "start_time": "2024-11-04T00:45:19.816Z"
   },
   {
    "duration": 43,
    "start_time": "2024-11-04T00:45:24.886Z"
   },
   {
    "duration": 18,
    "start_time": "2024-11-04T00:45:24.930Z"
   },
   {
    "duration": 8,
    "start_time": "2024-11-04T00:45:24.949Z"
   },
   {
    "duration": 11,
    "start_time": "2024-11-04T00:45:24.959Z"
   },
   {
    "duration": 9,
    "start_time": "2024-11-04T00:45:24.971Z"
   },
   {
    "duration": 11,
    "start_time": "2024-11-04T00:45:24.981Z"
   },
   {
    "duration": 14,
    "start_time": "2024-11-04T00:45:24.993Z"
   },
   {
    "duration": 22,
    "start_time": "2024-11-04T00:45:25.008Z"
   },
   {
    "duration": 4,
    "start_time": "2024-11-04T00:45:56.063Z"
   },
   {
    "duration": 8,
    "start_time": "2024-11-04T00:46:37.344Z"
   },
   {
    "duration": 5089,
    "start_time": "2024-11-04T00:46:48.471Z"
   },
   {
    "duration": 42,
    "start_time": "2024-11-04T00:46:53.562Z"
   },
   {
    "duration": 18,
    "start_time": "2024-11-04T00:46:53.606Z"
   },
   {
    "duration": 8,
    "start_time": "2024-11-04T00:46:53.625Z"
   },
   {
    "duration": 26,
    "start_time": "2024-11-04T00:46:53.634Z"
   },
   {
    "duration": 10,
    "start_time": "2024-11-04T00:46:53.661Z"
   },
   {
    "duration": 4,
    "start_time": "2024-11-04T00:46:53.672Z"
   },
   {
    "duration": 18,
    "start_time": "2024-11-04T00:46:53.677Z"
   },
   {
    "duration": 31,
    "start_time": "2024-11-04T00:46:53.696Z"
   },
   {
    "duration": 9,
    "start_time": "2024-11-04T00:46:53.729Z"
   },
   {
    "duration": 11,
    "start_time": "2024-11-04T00:49:02.866Z"
   },
   {
    "duration": 3,
    "start_time": "2024-11-04T00:50:19.812Z"
   },
   {
    "duration": 5108,
    "start_time": "2024-11-04T00:50:25.408Z"
   },
   {
    "duration": 42,
    "start_time": "2024-11-04T00:50:30.518Z"
   },
   {
    "duration": 18,
    "start_time": "2024-11-04T00:50:30.561Z"
   },
   {
    "duration": 16,
    "start_time": "2024-11-04T00:50:30.581Z"
   },
   {
    "duration": 17,
    "start_time": "2024-11-04T00:50:30.598Z"
   },
   {
    "duration": 21,
    "start_time": "2024-11-04T00:50:30.616Z"
   },
   {
    "duration": 56,
    "start_time": "2024-11-04T00:50:30.639Z"
   },
   {
    "duration": 6,
    "start_time": "2024-11-04T00:50:30.697Z"
   },
   {
    "duration": 12,
    "start_time": "2024-11-04T00:50:30.704Z"
   },
   {
    "duration": 6,
    "start_time": "2024-11-04T00:50:30.718Z"
   },
   {
    "duration": 11536,
    "start_time": "2024-11-05T12:43:01.476Z"
   },
   {
    "duration": 94,
    "start_time": "2024-11-05T12:43:13.015Z"
   },
   {
    "duration": 22,
    "start_time": "2024-11-05T12:43:13.110Z"
   },
   {
    "duration": 7,
    "start_time": "2024-11-05T12:43:13.134Z"
   },
   {
    "duration": 9,
    "start_time": "2024-11-05T12:43:13.144Z"
   },
   {
    "duration": 7,
    "start_time": "2024-11-05T12:43:13.154Z"
   },
   {
    "duration": 10,
    "start_time": "2024-11-05T12:43:13.162Z"
   },
   {
    "duration": 4,
    "start_time": "2024-11-05T12:43:13.174Z"
   },
   {
    "duration": 14,
    "start_time": "2024-11-05T12:43:13.179Z"
   },
   {
    "duration": 9,
    "start_time": "2024-11-05T12:43:13.194Z"
   },
   {
    "duration": 123,
    "start_time": "2024-11-05T12:54:31.975Z"
   },
   {
    "duration": 8535,
    "start_time": "2024-11-05T12:55:38.802Z"
   },
   {
    "duration": 48,
    "start_time": "2024-11-05T12:55:47.340Z"
   },
   {
    "duration": 24,
    "start_time": "2024-11-05T12:55:47.390Z"
   },
   {
    "duration": 10,
    "start_time": "2024-11-05T12:55:47.416Z"
   },
   {
    "duration": 19,
    "start_time": "2024-11-05T12:55:47.428Z"
   },
   {
    "duration": 15,
    "start_time": "2024-11-05T12:55:47.449Z"
   },
   {
    "duration": 29,
    "start_time": "2024-11-05T12:55:47.465Z"
   },
   {
    "duration": 5,
    "start_time": "2024-11-05T12:55:47.495Z"
   },
   {
    "duration": 28,
    "start_time": "2024-11-05T12:55:47.502Z"
   },
   {
    "duration": 17,
    "start_time": "2024-11-05T12:55:47.532Z"
   },
   {
    "duration": 990,
    "start_time": "2024-11-05T12:55:47.551Z"
   },
   {
    "duration": 1023,
    "start_time": "2024-11-05T12:57:29.420Z"
   },
   {
    "duration": 891,
    "start_time": "2024-11-05T13:01:23.381Z"
   },
   {
    "duration": 25,
    "start_time": "2024-11-05T13:09:22.293Z"
   },
   {
    "duration": 490,
    "start_time": "2024-11-05T13:09:38.172Z"
   },
   {
    "duration": 347,
    "start_time": "2024-11-05T13:11:14.099Z"
   },
   {
    "duration": 376,
    "start_time": "2024-11-05T13:11:27.400Z"
   },
   {
    "duration": 343,
    "start_time": "2024-11-05T13:12:24.820Z"
   },
   {
    "duration": 534,
    "start_time": "2024-11-05T13:12:58.444Z"
   },
   {
    "duration": 497,
    "start_time": "2024-11-05T13:13:08.533Z"
   },
   {
    "duration": 563,
    "start_time": "2024-11-05T13:13:19.239Z"
   },
   {
    "duration": 409,
    "start_time": "2024-11-05T13:13:35.319Z"
   },
   {
    "duration": 437,
    "start_time": "2024-11-05T13:13:41.160Z"
   },
   {
    "duration": 241,
    "start_time": "2024-11-05T13:27:14.467Z"
   },
   {
    "duration": 336,
    "start_time": "2024-11-05T13:27:58.411Z"
   },
   {
    "duration": 5,
    "start_time": "2024-11-05T13:29:07.860Z"
   },
   {
    "duration": 515,
    "start_time": "2024-11-05T13:29:09.922Z"
   },
   {
    "duration": 603,
    "start_time": "2024-11-05T13:29:30.040Z"
   },
   {
    "duration": 12,
    "start_time": "2024-11-05T13:30:08.573Z"
   },
   {
    "duration": 362,
    "start_time": "2024-11-05T13:30:19.473Z"
   },
   {
    "duration": 279,
    "start_time": "2024-11-05T13:30:37.088Z"
   },
   {
    "duration": 441,
    "start_time": "2024-11-05T13:30:43.689Z"
   },
   {
    "duration": 322,
    "start_time": "2024-11-05T13:30:53.600Z"
   },
   {
    "duration": 453,
    "start_time": "2024-11-05T13:31:00.380Z"
   },
   {
    "duration": 442,
    "start_time": "2024-11-05T13:31:21.599Z"
   },
   {
    "duration": 7655,
    "start_time": "2024-11-05T13:31:32.793Z"
   },
   {
    "duration": 52,
    "start_time": "2024-11-05T13:31:40.451Z"
   },
   {
    "duration": 24,
    "start_time": "2024-11-05T13:31:40.504Z"
   },
   {
    "duration": 10,
    "start_time": "2024-11-05T13:31:40.529Z"
   },
   {
    "duration": 10,
    "start_time": "2024-11-05T13:31:40.542Z"
   },
   {
    "duration": 10,
    "start_time": "2024-11-05T13:31:40.554Z"
   },
   {
    "duration": 10,
    "start_time": "2024-11-05T13:31:40.566Z"
   },
   {
    "duration": 5,
    "start_time": "2024-11-05T13:31:40.578Z"
   },
   {
    "duration": 14,
    "start_time": "2024-11-05T13:31:40.584Z"
   },
   {
    "duration": 32,
    "start_time": "2024-11-05T13:31:40.600Z"
   },
   {
    "duration": 520,
    "start_time": "2024-11-05T13:31:40.634Z"
   },
   {
    "duration": 5,
    "start_time": "2024-11-05T13:31:41.156Z"
   },
   {
    "duration": 333,
    "start_time": "2024-11-05T13:31:41.163Z"
   },
   {
    "duration": 19,
    "start_time": "2024-11-05T13:31:41.498Z"
   },
   {
    "duration": 305,
    "start_time": "2024-11-05T13:31:51.848Z"
   },
   {
    "duration": 391,
    "start_time": "2024-11-05T13:32:26.776Z"
   },
   {
    "duration": 428,
    "start_time": "2024-11-05T13:32:35.464Z"
   },
   {
    "duration": 452,
    "start_time": "2024-11-05T13:33:04.168Z"
   },
   {
    "duration": 490,
    "start_time": "2024-11-05T13:33:11.348Z"
   },
   {
    "duration": 466,
    "start_time": "2024-11-05T13:33:52.009Z"
   },
   {
    "duration": 1012,
    "start_time": "2024-11-05T13:35:56.689Z"
   },
   {
    "duration": 433,
    "start_time": "2024-11-05T13:39:39.461Z"
   },
   {
    "duration": 578,
    "start_time": "2024-11-05T13:43:28.188Z"
   },
   {
    "duration": 532,
    "start_time": "2024-11-05T13:43:48.069Z"
   },
   {
    "duration": 684,
    "start_time": "2024-11-05T13:44:12.352Z"
   },
   {
    "duration": 644,
    "start_time": "2024-11-05T13:45:02.748Z"
   },
   {
    "duration": 16,
    "start_time": "2024-11-05T13:54:37.894Z"
   },
   {
    "duration": 7830,
    "start_time": "2024-11-05T19:09:09.477Z"
   },
   {
    "duration": 54,
    "start_time": "2024-11-05T19:09:17.309Z"
   },
   {
    "duration": 22,
    "start_time": "2024-11-05T19:09:17.365Z"
   },
   {
    "duration": 8,
    "start_time": "2024-11-05T19:09:17.389Z"
   },
   {
    "duration": 10,
    "start_time": "2024-11-05T19:09:17.400Z"
   },
   {
    "duration": 7,
    "start_time": "2024-11-05T19:09:17.412Z"
   },
   {
    "duration": 32,
    "start_time": "2024-11-05T19:09:17.421Z"
   },
   {
    "duration": 5,
    "start_time": "2024-11-05T19:09:17.455Z"
   },
   {
    "duration": 15,
    "start_time": "2024-11-05T19:09:17.461Z"
   },
   {
    "duration": 7,
    "start_time": "2024-11-05T19:09:17.478Z"
   },
   {
    "duration": 521,
    "start_time": "2024-11-05T19:09:17.487Z"
   },
   {
    "duration": 7,
    "start_time": "2024-11-05T19:09:18.010Z"
   },
   {
    "duration": 530,
    "start_time": "2024-11-05T19:09:18.019Z"
   },
   {
    "duration": 543,
    "start_time": "2024-11-05T19:09:18.553Z"
   },
   {
    "duration": 1067,
    "start_time": "2024-11-05T19:09:19.098Z"
   },
   {
    "duration": 256,
    "start_time": "2024-11-05T19:09:20.167Z"
   },
   {
    "duration": 202,
    "start_time": "2024-11-05T19:09:20.425Z"
   },
   {
    "duration": 146,
    "start_time": "2024-11-05T19:09:57.644Z"
   },
   {
    "duration": 493,
    "start_time": "2024-11-05T19:10:33.224Z"
   },
   {
    "duration": 882,
    "start_time": "2024-11-05T19:12:42.002Z"
   },
   {
    "duration": 338,
    "start_time": "2024-11-05T19:14:45.302Z"
   },
   {
    "duration": 336,
    "start_time": "2024-11-05T19:15:32.316Z"
   },
   {
    "duration": 18,
    "start_time": "2024-11-05T19:36:01.464Z"
   },
   {
    "duration": 1063,
    "start_time": "2024-11-05T19:36:57.890Z"
   },
   {
    "duration": 13,
    "start_time": "2024-11-05T20:16:37.348Z"
   },
   {
    "duration": 554,
    "start_time": "2024-11-05T20:29:33.011Z"
   },
   {
    "duration": 563,
    "start_time": "2024-11-05T20:30:01.010Z"
   },
   {
    "duration": 7909,
    "start_time": "2024-11-05T20:30:55.173Z"
   },
   {
    "duration": 61,
    "start_time": "2024-11-05T20:31:03.085Z"
   },
   {
    "duration": 22,
    "start_time": "2024-11-05T20:31:03.148Z"
   },
   {
    "duration": 58,
    "start_time": "2024-11-05T20:31:03.172Z"
   },
   {
    "duration": 29,
    "start_time": "2024-11-05T20:31:03.232Z"
   },
   {
    "duration": 6,
    "start_time": "2024-11-05T20:31:03.262Z"
   },
   {
    "duration": 15,
    "start_time": "2024-11-05T20:31:03.270Z"
   },
   {
    "duration": 5,
    "start_time": "2024-11-05T20:31:03.287Z"
   },
   {
    "duration": 35,
    "start_time": "2024-11-05T20:31:03.294Z"
   },
   {
    "duration": 9,
    "start_time": "2024-11-05T20:31:03.330Z"
   },
   {
    "duration": 551,
    "start_time": "2024-11-05T20:31:03.341Z"
   },
   {
    "duration": 8,
    "start_time": "2024-11-05T20:31:03.894Z"
   },
   {
    "duration": 698,
    "start_time": "2024-11-05T20:31:03.905Z"
   },
   {
    "duration": 564,
    "start_time": "2024-11-05T20:31:04.607Z"
   },
   {
    "duration": 13,
    "start_time": "2024-11-05T20:31:05.173Z"
   },
   {
    "duration": 592,
    "start_time": "2024-11-05T20:31:05.187Z"
   },
   {
    "duration": 16,
    "start_time": "2024-11-05T20:31:05.780Z"
   },
   {
    "duration": 989,
    "start_time": "2024-11-05T20:31:05.798Z"
   },
   {
    "duration": 400,
    "start_time": "2024-11-05T20:31:06.789Z"
   },
   {
    "duration": 208,
    "start_time": "2024-11-05T20:31:07.190Z"
   },
   {
    "duration": 340,
    "start_time": "2024-11-05T20:31:07.400Z"
   },
   {
    "duration": 18,
    "start_time": "2024-11-05T20:31:07.742Z"
   },
   {
    "duration": 69,
    "start_time": "2024-11-05T20:31:07.762Z"
   },
   {
    "duration": 557,
    "start_time": "2024-11-05T20:43:09.685Z"
   },
   {
    "duration": 28,
    "start_time": "2024-11-05T20:43:10.244Z"
   },
   {
    "duration": 21,
    "start_time": "2024-11-05T20:43:24.693Z"
   },
   {
    "duration": 7770,
    "start_time": "2024-11-05T20:44:12.953Z"
   },
   {
    "duration": 53,
    "start_time": "2024-11-05T20:44:20.726Z"
   },
   {
    "duration": 22,
    "start_time": "2024-11-05T20:44:20.781Z"
   },
   {
    "duration": 8,
    "start_time": "2024-11-05T20:44:20.805Z"
   },
   {
    "duration": 12,
    "start_time": "2024-11-05T20:44:20.815Z"
   },
   {
    "duration": 5,
    "start_time": "2024-11-05T20:44:20.829Z"
   },
   {
    "duration": 12,
    "start_time": "2024-11-05T20:44:20.851Z"
   },
   {
    "duration": 5,
    "start_time": "2024-11-05T20:44:20.865Z"
   },
   {
    "duration": 14,
    "start_time": "2024-11-05T20:44:20.872Z"
   },
   {
    "duration": 7,
    "start_time": "2024-11-05T20:44:20.890Z"
   },
   {
    "duration": 573,
    "start_time": "2024-11-05T20:44:20.907Z"
   },
   {
    "duration": 5,
    "start_time": "2024-11-05T20:44:21.482Z"
   },
   {
    "duration": 495,
    "start_time": "2024-11-05T20:44:21.489Z"
   },
   {
    "duration": 684,
    "start_time": "2024-11-05T20:44:21.986Z"
   },
   {
    "duration": 13,
    "start_time": "2024-11-05T20:44:22.672Z"
   },
   {
    "duration": 576,
    "start_time": "2024-11-05T20:44:22.686Z"
   },
   {
    "duration": 14,
    "start_time": "2024-11-05T20:44:23.263Z"
   },
   {
    "duration": 969,
    "start_time": "2024-11-05T20:44:23.279Z"
   },
   {
    "duration": 256,
    "start_time": "2024-11-05T20:44:24.250Z"
   },
   {
    "duration": 203,
    "start_time": "2024-11-05T20:44:24.508Z"
   },
   {
    "duration": 330,
    "start_time": "2024-11-05T20:44:24.713Z"
   },
   {
    "duration": 11,
    "start_time": "2024-11-05T20:44:25.051Z"
   },
   {
    "duration": 6,
    "start_time": "2024-11-05T20:44:25.064Z"
   },
   {
    "duration": 682,
    "start_time": "2024-11-05T20:46:59.393Z"
   },
   {
    "duration": 23,
    "start_time": "2024-11-05T20:47:15.425Z"
   },
   {
    "duration": 7877,
    "start_time": "2024-11-05T20:47:49.916Z"
   },
   {
    "duration": 54,
    "start_time": "2024-11-05T20:47:57.796Z"
   },
   {
    "duration": 23,
    "start_time": "2024-11-05T20:47:57.852Z"
   },
   {
    "duration": 14,
    "start_time": "2024-11-05T20:47:57.877Z"
   },
   {
    "duration": 25,
    "start_time": "2024-11-05T20:47:57.894Z"
   },
   {
    "duration": 10,
    "start_time": "2024-11-05T20:47:57.921Z"
   },
   {
    "duration": 11,
    "start_time": "2024-11-05T20:47:57.933Z"
   },
   {
    "duration": 5,
    "start_time": "2024-11-05T20:47:57.952Z"
   },
   {
    "duration": 14,
    "start_time": "2024-11-05T20:47:57.959Z"
   },
   {
    "duration": 8,
    "start_time": "2024-11-05T20:47:57.975Z"
   },
   {
    "duration": 586,
    "start_time": "2024-11-05T20:47:57.985Z"
   },
   {
    "duration": 5,
    "start_time": "2024-11-05T20:47:58.573Z"
   },
   {
    "duration": 566,
    "start_time": "2024-11-05T20:47:58.579Z"
   },
   {
    "duration": 13,
    "start_time": "2024-11-05T20:47:59.148Z"
   },
   {
    "duration": 607,
    "start_time": "2024-11-05T20:47:59.162Z"
   },
   {
    "duration": 12,
    "start_time": "2024-11-05T20:47:59.770Z"
   },
   {
    "duration": 701,
    "start_time": "2024-11-05T20:47:59.783Z"
   },
   {
    "duration": 15,
    "start_time": "2024-11-05T20:48:00.486Z"
   },
   {
    "duration": 955,
    "start_time": "2024-11-05T20:48:00.503Z"
   },
   {
    "duration": 273,
    "start_time": "2024-11-05T20:48:01.460Z"
   },
   {
    "duration": 205,
    "start_time": "2024-11-05T20:48:01.736Z"
   },
   {
    "duration": 331,
    "start_time": "2024-11-05T20:48:01.943Z"
   },
   {
    "duration": 12,
    "start_time": "2024-11-05T20:48:02.276Z"
   },
   {
    "duration": 32,
    "start_time": "2024-11-05T20:48:02.290Z"
   },
   {
    "duration": 15,
    "start_time": "2024-11-05T20:52:45.951Z"
   },
   {
    "duration": 13,
    "start_time": "2024-11-05T20:52:56.184Z"
   },
   {
    "duration": 9206,
    "start_time": "2024-11-05T22:06:27.784Z"
   },
   {
    "duration": 53,
    "start_time": "2024-11-05T22:06:36.992Z"
   },
   {
    "duration": 27,
    "start_time": "2024-11-05T22:06:37.047Z"
   },
   {
    "duration": 8,
    "start_time": "2024-11-05T22:06:37.076Z"
   },
   {
    "duration": 30,
    "start_time": "2024-11-05T22:06:37.085Z"
   },
   {
    "duration": 38,
    "start_time": "2024-11-05T22:06:37.117Z"
   },
   {
    "duration": 10,
    "start_time": "2024-11-05T22:06:37.157Z"
   },
   {
    "duration": 4,
    "start_time": "2024-11-05T22:06:37.169Z"
   },
   {
    "duration": 47,
    "start_time": "2024-11-05T22:06:37.174Z"
   },
   {
    "duration": 9,
    "start_time": "2024-11-05T22:06:37.224Z"
   },
   {
    "duration": 515,
    "start_time": "2024-11-05T22:06:37.234Z"
   },
   {
    "duration": 6,
    "start_time": "2024-11-05T22:06:37.750Z"
   },
   {
    "duration": 594,
    "start_time": "2024-11-05T22:06:37.758Z"
   },
   {
    "duration": 12,
    "start_time": "2024-11-05T22:06:38.353Z"
   },
   {
    "duration": 578,
    "start_time": "2024-11-05T22:06:38.367Z"
   },
   {
    "duration": 15,
    "start_time": "2024-11-05T22:06:38.947Z"
   },
   {
    "duration": 593,
    "start_time": "2024-11-05T22:06:38.964Z"
   },
   {
    "duration": 14,
    "start_time": "2024-11-05T22:06:39.558Z"
   },
   {
    "duration": 978,
    "start_time": "2024-11-05T22:06:39.574Z"
   },
   {
    "duration": 348,
    "start_time": "2024-11-05T22:06:40.553Z"
   },
   {
    "duration": 203,
    "start_time": "2024-11-05T22:06:40.903Z"
   },
   {
    "duration": 360,
    "start_time": "2024-11-05T22:06:41.107Z"
   },
   {
    "duration": 11,
    "start_time": "2024-11-05T22:06:41.469Z"
   },
   {
    "duration": 10,
    "start_time": "2024-11-05T22:06:41.482Z"
   },
   {
    "duration": 7871,
    "start_time": "2024-11-05T22:12:12.954Z"
   },
   {
    "duration": 51,
    "start_time": "2024-11-05T22:12:20.828Z"
   },
   {
    "duration": 22,
    "start_time": "2024-11-05T22:12:20.881Z"
   },
   {
    "duration": 7,
    "start_time": "2024-11-05T22:12:20.905Z"
   },
   {
    "duration": 11,
    "start_time": "2024-11-05T22:12:20.915Z"
   },
   {
    "duration": 25,
    "start_time": "2024-11-05T22:12:20.927Z"
   },
   {
    "duration": 11,
    "start_time": "2024-11-05T22:12:20.954Z"
   },
   {
    "duration": 5,
    "start_time": "2024-11-05T22:12:20.967Z"
   },
   {
    "duration": 26,
    "start_time": "2024-11-05T22:12:20.974Z"
   },
   {
    "duration": 40,
    "start_time": "2024-11-05T22:12:21.002Z"
   },
   {
    "duration": 536,
    "start_time": "2024-11-05T22:12:21.044Z"
   },
   {
    "duration": 7,
    "start_time": "2024-11-05T22:12:21.582Z"
   },
   {
    "duration": 562,
    "start_time": "2024-11-05T22:12:21.590Z"
   },
   {
    "duration": 522,
    "start_time": "2024-11-05T22:12:22.154Z"
   },
   {
    "duration": 1019,
    "start_time": "2024-11-05T22:12:22.678Z"
   },
   {
    "duration": 297,
    "start_time": "2024-11-05T22:12:23.698Z"
   },
   {
    "duration": 198,
    "start_time": "2024-11-05T22:12:23.997Z"
   },
   {
    "duration": 364,
    "start_time": "2024-11-05T22:12:24.196Z"
   },
   {
    "duration": 12,
    "start_time": "2024-11-05T22:12:24.561Z"
   },
   {
    "duration": 16,
    "start_time": "2024-11-05T22:12:24.574Z"
   },
   {
    "duration": 20,
    "start_time": "2024-11-05T22:12:24.592Z"
   },
   {
    "duration": 19,
    "start_time": "2024-11-05T22:12:24.613Z"
   },
   {
    "duration": 4,
    "start_time": "2024-11-05T22:21:15.686Z"
   },
   {
    "duration": 19,
    "start_time": "2024-11-05T22:21:17.675Z"
   },
   {
    "duration": 138,
    "start_time": "2024-11-05T22:26:28.724Z"
   },
   {
    "duration": 17,
    "start_time": "2024-11-05T22:26:52.684Z"
   },
   {
    "duration": 33,
    "start_time": "2024-11-05T22:27:13.052Z"
   },
   {
    "duration": 34,
    "start_time": "2024-11-05T22:27:26.085Z"
   },
   {
    "duration": 43,
    "start_time": "2024-11-05T22:31:08.594Z"
   },
   {
    "duration": 88,
    "start_time": "2024-11-05T22:34:29.614Z"
   },
   {
    "duration": 13,
    "start_time": "2024-11-05T22:34:37.193Z"
   },
   {
    "duration": 8,
    "start_time": "2024-11-05T22:34:45.413Z"
   },
   {
    "duration": 16,
    "start_time": "2024-11-05T22:34:47.321Z"
   },
   {
    "duration": 5,
    "start_time": "2024-11-05T22:37:53.458Z"
   },
   {
    "duration": 40,
    "start_time": "2024-11-05T22:38:51.341Z"
   },
   {
    "duration": 6,
    "start_time": "2024-11-05T22:39:24.621Z"
   },
   {
    "duration": 4,
    "start_time": "2024-11-05T22:41:33.769Z"
   },
   {
    "duration": 6,
    "start_time": "2024-11-05T22:44:03.554Z"
   },
   {
    "duration": 7,
    "start_time": "2024-11-05T22:44:05.613Z"
   },
   {
    "duration": 42,
    "start_time": "2024-11-05T22:48:43.249Z"
   },
   {
    "duration": 7796,
    "start_time": "2024-11-05T22:48:48.512Z"
   },
   {
    "duration": 54,
    "start_time": "2024-11-05T22:48:56.311Z"
   },
   {
    "duration": 23,
    "start_time": "2024-11-05T22:48:56.366Z"
   },
   {
    "duration": 8,
    "start_time": "2024-11-05T22:48:56.390Z"
   },
   {
    "duration": 23,
    "start_time": "2024-11-05T22:48:56.401Z"
   },
   {
    "duration": 8,
    "start_time": "2024-11-05T22:48:56.425Z"
   },
   {
    "duration": 10,
    "start_time": "2024-11-05T22:48:56.452Z"
   },
   {
    "duration": 4,
    "start_time": "2024-11-05T22:48:56.464Z"
   },
   {
    "duration": 21,
    "start_time": "2024-11-05T22:48:56.470Z"
   },
   {
    "duration": 8,
    "start_time": "2024-11-05T22:48:56.492Z"
   },
   {
    "duration": 576,
    "start_time": "2024-11-05T22:48:56.502Z"
   },
   {
    "duration": 6,
    "start_time": "2024-11-05T22:48:57.079Z"
   },
   {
    "duration": 547,
    "start_time": "2024-11-05T22:48:57.087Z"
   },
   {
    "duration": 718,
    "start_time": "2024-11-05T22:48:57.637Z"
   },
   {
    "duration": 914,
    "start_time": "2024-11-05T22:48:58.357Z"
   },
   {
    "duration": 254,
    "start_time": "2024-11-05T22:48:59.273Z"
   },
   {
    "duration": 202,
    "start_time": "2024-11-05T22:48:59.529Z"
   },
   {
    "duration": 321,
    "start_time": "2024-11-05T22:48:59.733Z"
   },
   {
    "duration": 4,
    "start_time": "2024-11-05T22:49:00.057Z"
   },
   {
    "duration": 13,
    "start_time": "2024-11-05T22:49:00.063Z"
   },
   {
    "duration": 8,
    "start_time": "2024-11-05T22:49:00.078Z"
   },
   {
    "duration": 89,
    "start_time": "2024-11-05T22:49:00.088Z"
   },
   {
    "duration": 7,
    "start_time": "2024-11-05T22:49:00.180Z"
   },
   {
    "duration": 54,
    "start_time": "2024-11-05T22:49:00.189Z"
   },
   {
    "duration": 35,
    "start_time": "2024-11-05T22:49:00.245Z"
   },
   {
    "duration": 31,
    "start_time": "2024-11-05T22:49:00.281Z"
   },
   {
    "duration": 71,
    "start_time": "2024-11-05T22:49:00.314Z"
   },
   {
    "duration": 10,
    "start_time": "2024-11-05T22:49:00.387Z"
   },
   {
    "duration": 20,
    "start_time": "2024-11-05T22:49:00.399Z"
   },
   {
    "duration": 37,
    "start_time": "2024-11-05T22:49:00.421Z"
   },
   {
    "duration": 8,
    "start_time": "2024-11-05T22:49:40.961Z"
   },
   {
    "duration": 9,
    "start_time": "2024-11-05T22:49:56.981Z"
   },
   {
    "duration": 14177,
    "start_time": "2024-11-06T11:25:18.012Z"
   },
   {
    "duration": 102,
    "start_time": "2024-11-06T11:25:32.191Z"
   },
   {
    "duration": 22,
    "start_time": "2024-11-06T11:25:32.295Z"
   },
   {
    "duration": 7,
    "start_time": "2024-11-06T11:25:32.319Z"
   },
   {
    "duration": 31,
    "start_time": "2024-11-06T11:25:32.328Z"
   },
   {
    "duration": 30,
    "start_time": "2024-11-06T11:25:32.361Z"
   },
   {
    "duration": 22,
    "start_time": "2024-11-06T11:25:32.393Z"
   },
   {
    "duration": 11,
    "start_time": "2024-11-06T11:25:32.416Z"
   },
   {
    "duration": 32,
    "start_time": "2024-11-06T11:25:32.429Z"
   },
   {
    "duration": 33,
    "start_time": "2024-11-06T11:25:32.463Z"
   },
   {
    "duration": 508,
    "start_time": "2024-11-06T11:25:32.497Z"
   },
   {
    "duration": 6,
    "start_time": "2024-11-06T11:25:33.006Z"
   },
   {
    "duration": 483,
    "start_time": "2024-11-06T11:25:33.013Z"
   },
   {
    "duration": 484,
    "start_time": "2024-11-06T11:25:33.498Z"
   },
   {
    "duration": 811,
    "start_time": "2024-11-06T11:25:33.984Z"
   },
   {
    "duration": 205,
    "start_time": "2024-11-06T11:25:34.797Z"
   },
   {
    "duration": 163,
    "start_time": "2024-11-06T11:25:35.006Z"
   },
   {
    "duration": 317,
    "start_time": "2024-11-06T11:25:35.170Z"
   },
   {
    "duration": 3,
    "start_time": "2024-11-06T11:25:35.489Z"
   },
   {
    "duration": 26,
    "start_time": "2024-11-06T11:25:35.493Z"
   },
   {
    "duration": 32,
    "start_time": "2024-11-06T11:25:35.521Z"
   },
   {
    "duration": 158,
    "start_time": "2024-11-06T11:25:35.555Z"
   },
   {
    "duration": 7,
    "start_time": "2024-11-06T11:25:35.714Z"
   },
   {
    "duration": 24,
    "start_time": "2024-11-06T11:25:35.722Z"
   },
   {
    "duration": 17,
    "start_time": "2024-11-06T11:25:35.748Z"
   },
   {
    "duration": 45,
    "start_time": "2024-11-06T11:25:35.766Z"
   },
   {
    "duration": 42,
    "start_time": "2024-11-06T11:25:35.812Z"
   },
   {
    "duration": 109,
    "start_time": "2024-11-06T11:25:35.855Z"
   },
   {
    "duration": 4,
    "start_time": "2024-11-06T11:28:29.160Z"
   },
   {
    "duration": 4,
    "start_time": "2024-11-06T11:28:44.954Z"
   },
   {
    "duration": 4,
    "start_time": "2024-11-06T11:32:31.843Z"
   },
   {
    "duration": 2,
    "start_time": "2024-11-06T11:33:58.647Z"
   },
   {
    "duration": 5,
    "start_time": "2024-11-06T11:34:01.064Z"
   },
   {
    "duration": 3,
    "start_time": "2024-11-06T11:34:02.457Z"
   },
   {
    "duration": 2,
    "start_time": "2024-11-06T11:34:03.791Z"
   },
   {
    "duration": 7,
    "start_time": "2024-11-06T11:36:08.654Z"
   },
   {
    "duration": 7633,
    "start_time": "2024-11-06T11:42:09.146Z"
   },
   {
    "duration": 46,
    "start_time": "2024-11-06T11:42:16.782Z"
   },
   {
    "duration": 20,
    "start_time": "2024-11-06T11:42:16.829Z"
   },
   {
    "duration": 5,
    "start_time": "2024-11-06T11:42:16.851Z"
   },
   {
    "duration": 26,
    "start_time": "2024-11-06T11:42:16.857Z"
   },
   {
    "duration": 11,
    "start_time": "2024-11-06T11:42:16.884Z"
   },
   {
    "duration": 15,
    "start_time": "2024-11-06T11:42:16.897Z"
   },
   {
    "duration": 6,
    "start_time": "2024-11-06T11:42:16.913Z"
   },
   {
    "duration": 26,
    "start_time": "2024-11-06T11:42:16.920Z"
   },
   {
    "duration": 29,
    "start_time": "2024-11-06T11:42:16.948Z"
   },
   {
    "duration": 509,
    "start_time": "2024-11-06T11:42:16.978Z"
   },
   {
    "duration": 5,
    "start_time": "2024-11-06T11:42:17.488Z"
   },
   {
    "duration": 457,
    "start_time": "2024-11-06T11:42:17.494Z"
   },
   {
    "duration": 488,
    "start_time": "2024-11-06T11:42:17.953Z"
   },
   {
    "duration": 798,
    "start_time": "2024-11-06T11:42:18.442Z"
   },
   {
    "duration": 300,
    "start_time": "2024-11-06T11:42:19.241Z"
   },
   {
    "duration": 168,
    "start_time": "2024-11-06T11:42:19.542Z"
   },
   {
    "duration": 274,
    "start_time": "2024-11-06T11:42:19.711Z"
   },
   {
    "duration": 3,
    "start_time": "2024-11-06T11:42:19.986Z"
   },
   {
    "duration": 94,
    "start_time": "2024-11-06T11:42:19.991Z"
   },
   {
    "duration": 49,
    "start_time": "2024-11-06T11:42:20.086Z"
   },
   {
    "duration": 61,
    "start_time": "2024-11-06T11:42:20.136Z"
   },
   {
    "duration": 7,
    "start_time": "2024-11-06T11:42:20.199Z"
   },
   {
    "duration": 12,
    "start_time": "2024-11-06T11:42:20.207Z"
   },
   {
    "duration": 128,
    "start_time": "2024-11-06T11:42:20.220Z"
   },
   {
    "duration": 40,
    "start_time": "2024-11-06T11:42:20.350Z"
   },
   {
    "duration": 11,
    "start_time": "2024-11-06T11:42:20.391Z"
   },
   {
    "duration": 29,
    "start_time": "2024-11-06T11:42:20.405Z"
   },
   {
    "duration": 33,
    "start_time": "2024-11-06T11:42:20.436Z"
   },
   {
    "duration": 42,
    "start_time": "2024-11-06T11:42:20.470Z"
   },
   {
    "duration": 22,
    "start_time": "2024-11-06T11:42:20.514Z"
   },
   {
    "duration": 24,
    "start_time": "2024-11-06T11:42:20.537Z"
   },
   {
    "duration": 143234,
    "start_time": "2024-11-06T11:42:20.562Z"
   },
   {
    "duration": 7771,
    "start_time": "2024-11-06T11:44:58.959Z"
   },
   {
    "duration": 53,
    "start_time": "2024-11-06T11:45:06.732Z"
   },
   {
    "duration": 22,
    "start_time": "2024-11-06T11:45:06.789Z"
   },
   {
    "duration": 14,
    "start_time": "2024-11-06T11:45:06.813Z"
   },
   {
    "duration": 27,
    "start_time": "2024-11-06T11:45:06.830Z"
   },
   {
    "duration": 29,
    "start_time": "2024-11-06T11:45:06.859Z"
   },
   {
    "duration": 37,
    "start_time": "2024-11-06T11:45:06.890Z"
   },
   {
    "duration": 42,
    "start_time": "2024-11-06T11:45:06.929Z"
   },
   {
    "duration": 28,
    "start_time": "2024-11-06T11:45:06.973Z"
   },
   {
    "duration": 22,
    "start_time": "2024-11-06T11:45:07.002Z"
   },
   {
    "duration": 472,
    "start_time": "2024-11-06T11:45:07.025Z"
   },
   {
    "duration": 9,
    "start_time": "2024-11-06T11:45:07.498Z"
   },
   {
    "duration": 464,
    "start_time": "2024-11-06T11:45:07.508Z"
   },
   {
    "duration": 527,
    "start_time": "2024-11-06T11:45:07.975Z"
   },
   {
    "duration": 891,
    "start_time": "2024-11-06T11:45:08.506Z"
   },
   {
    "duration": 222,
    "start_time": "2024-11-06T11:45:09.398Z"
   },
   {
    "duration": 172,
    "start_time": "2024-11-06T11:45:09.621Z"
   },
   {
    "duration": 308,
    "start_time": "2024-11-06T11:45:09.794Z"
   },
   {
    "duration": 6,
    "start_time": "2024-11-06T11:45:10.103Z"
   },
   {
    "duration": 24,
    "start_time": "2024-11-06T11:45:10.110Z"
   },
   {
    "duration": 12,
    "start_time": "2024-11-06T11:45:10.136Z"
   },
   {
    "duration": 64,
    "start_time": "2024-11-06T11:45:10.149Z"
   },
   {
    "duration": 6,
    "start_time": "2024-11-06T11:45:10.214Z"
   },
   {
    "duration": 29,
    "start_time": "2024-11-06T11:45:10.222Z"
   },
   {
    "duration": 85,
    "start_time": "2024-11-06T11:45:10.253Z"
   },
   {
    "duration": 27,
    "start_time": "2024-11-06T11:45:10.339Z"
   },
   {
    "duration": 40,
    "start_time": "2024-11-06T11:45:10.368Z"
   },
   {
    "duration": 18,
    "start_time": "2024-11-06T11:45:10.410Z"
   },
   {
    "duration": 30,
    "start_time": "2024-11-06T11:45:10.429Z"
   },
   {
    "duration": 16,
    "start_time": "2024-11-06T11:45:10.461Z"
   },
   {
    "duration": 19,
    "start_time": "2024-11-06T11:45:10.479Z"
   },
   {
    "duration": 27,
    "start_time": "2024-11-06T11:45:10.500Z"
   },
   {
    "duration": 12,
    "start_time": "2024-11-06T11:45:10.528Z"
   },
   {
    "duration": 166273,
    "start_time": "2024-11-06T11:45:10.542Z"
   },
   {
    "duration": 9192,
    "start_time": "2024-11-06T11:49:07.818Z"
   },
   {
    "duration": 23,
    "start_time": "2024-11-06T11:49:58.736Z"
   },
   {
    "duration": 9,
    "start_time": "2024-11-06T11:50:02.386Z"
   },
   {
    "duration": 7,
    "start_time": "2024-11-06T11:50:22.140Z"
   },
   {
    "duration": 4,
    "start_time": "2024-11-06T11:57:17.839Z"
   },
   {
    "duration": 4,
    "start_time": "2024-11-06T12:01:23.122Z"
   },
   {
    "duration": 24105,
    "start_time": "2024-11-06T12:04:19.794Z"
   },
   {
    "duration": 1192,
    "start_time": "2024-11-06T12:05:08.659Z"
   },
   {
    "duration": 8,
    "start_time": "2024-11-06T12:05:22.150Z"
   },
   {
    "duration": 5,
    "start_time": "2024-11-06T12:17:34.569Z"
   },
   {
    "duration": 7,
    "start_time": "2024-11-06T12:19:12.821Z"
   },
   {
    "duration": 2,
    "start_time": "2024-11-06T12:19:16.128Z"
   },
   {
    "duration": 4,
    "start_time": "2024-11-06T12:19:17.774Z"
   },
   {
    "duration": 3,
    "start_time": "2024-11-06T12:19:26.906Z"
   },
   {
    "duration": 3,
    "start_time": "2024-11-06T12:19:28.462Z"
   },
   {
    "duration": 4,
    "start_time": "2024-11-06T12:19:30.413Z"
   },
   {
    "duration": 2,
    "start_time": "2024-11-06T12:19:32.316Z"
   },
   {
    "duration": 3,
    "start_time": "2024-11-06T12:19:34.152Z"
   },
   {
    "duration": 7587,
    "start_time": "2024-11-06T12:19:44.713Z"
   },
   {
    "duration": 44,
    "start_time": "2024-11-06T12:19:52.303Z"
   },
   {
    "duration": 18,
    "start_time": "2024-11-06T12:19:52.349Z"
   },
   {
    "duration": 11,
    "start_time": "2024-11-06T12:19:52.368Z"
   },
   {
    "duration": 14,
    "start_time": "2024-11-06T12:19:52.381Z"
   },
   {
    "duration": 65,
    "start_time": "2024-11-06T12:19:52.396Z"
   },
   {
    "duration": 14,
    "start_time": "2024-11-06T12:19:52.462Z"
   },
   {
    "duration": 3,
    "start_time": "2024-11-06T12:19:52.477Z"
   },
   {
    "duration": 12,
    "start_time": "2024-11-06T12:19:52.481Z"
   },
   {
    "duration": 24,
    "start_time": "2024-11-06T12:19:52.494Z"
   },
   {
    "duration": 466,
    "start_time": "2024-11-06T12:19:52.520Z"
   },
   {
    "duration": 5,
    "start_time": "2024-11-06T12:19:52.987Z"
   },
   {
    "duration": 504,
    "start_time": "2024-11-06T12:19:52.994Z"
   },
   {
    "duration": 563,
    "start_time": "2024-11-06T12:19:53.501Z"
   },
   {
    "duration": 774,
    "start_time": "2024-11-06T12:19:54.065Z"
   },
   {
    "duration": 222,
    "start_time": "2024-11-06T12:19:54.841Z"
   },
   {
    "duration": 187,
    "start_time": "2024-11-06T12:19:55.065Z"
   },
   {
    "duration": 314,
    "start_time": "2024-11-06T12:19:55.254Z"
   },
   {
    "duration": 3,
    "start_time": "2024-11-06T12:19:55.569Z"
   },
   {
    "duration": 21,
    "start_time": "2024-11-06T12:19:55.574Z"
   },
   {
    "duration": 11,
    "start_time": "2024-11-06T12:19:55.596Z"
   },
   {
    "duration": 41,
    "start_time": "2024-11-06T12:19:55.608Z"
   },
   {
    "duration": 7,
    "start_time": "2024-11-06T12:19:55.650Z"
   },
   {
    "duration": 12,
    "start_time": "2024-11-06T12:19:55.658Z"
   },
   {
    "duration": 7,
    "start_time": "2024-11-06T12:19:55.671Z"
   },
   {
    "duration": 6,
    "start_time": "2024-11-06T12:19:55.679Z"
   },
   {
    "duration": 25,
    "start_time": "2024-11-06T12:19:55.686Z"
   },
   {
    "duration": 7,
    "start_time": "2024-11-06T12:19:55.712Z"
   },
   {
    "duration": 9,
    "start_time": "2024-11-06T12:19:55.721Z"
   },
   {
    "duration": 38,
    "start_time": "2024-11-06T12:19:55.731Z"
   },
   {
    "duration": 28,
    "start_time": "2024-11-06T12:19:55.770Z"
   },
   {
    "duration": 40,
    "start_time": "2024-11-06T12:19:55.799Z"
   },
   {
    "duration": 46,
    "start_time": "2024-11-06T12:19:55.840Z"
   },
   {
    "duration": 7,
    "start_time": "2024-11-06T12:19:55.888Z"
   },
   {
    "duration": 9026,
    "start_time": "2024-11-06T12:22:23.397Z"
   },
   {
    "duration": 42,
    "start_time": "2024-11-06T12:22:32.424Z"
   },
   {
    "duration": 36,
    "start_time": "2024-11-06T12:22:32.467Z"
   },
   {
    "duration": 7,
    "start_time": "2024-11-06T12:22:32.504Z"
   },
   {
    "duration": 26,
    "start_time": "2024-11-06T12:22:32.513Z"
   },
   {
    "duration": 5,
    "start_time": "2024-11-06T12:22:32.540Z"
   },
   {
    "duration": 32,
    "start_time": "2024-11-06T12:22:32.546Z"
   },
   {
    "duration": 23,
    "start_time": "2024-11-06T12:22:32.580Z"
   },
   {
    "duration": 19,
    "start_time": "2024-11-06T12:22:32.605Z"
   },
   {
    "duration": 8,
    "start_time": "2024-11-06T12:22:32.626Z"
   },
   {
    "duration": 452,
    "start_time": "2024-11-06T12:22:32.638Z"
   },
   {
    "duration": 7,
    "start_time": "2024-11-06T12:22:33.091Z"
   },
   {
    "duration": 572,
    "start_time": "2024-11-06T12:22:33.099Z"
   },
   {
    "duration": 504,
    "start_time": "2024-11-06T12:22:33.673Z"
   },
   {
    "duration": 766,
    "start_time": "2024-11-06T12:22:34.178Z"
   },
   {
    "duration": 227,
    "start_time": "2024-11-06T12:22:34.946Z"
   },
   {
    "duration": 189,
    "start_time": "2024-11-06T12:22:35.174Z"
   },
   {
    "duration": 318,
    "start_time": "2024-11-06T12:22:35.364Z"
   },
   {
    "duration": 3,
    "start_time": "2024-11-06T12:22:35.683Z"
   },
   {
    "duration": 23,
    "start_time": "2024-11-06T12:22:35.687Z"
   },
   {
    "duration": 34,
    "start_time": "2024-11-06T12:22:35.711Z"
   },
   {
    "duration": 157,
    "start_time": "2024-11-06T12:22:35.747Z"
   },
   {
    "duration": 7,
    "start_time": "2024-11-06T12:22:35.905Z"
   },
   {
    "duration": 24,
    "start_time": "2024-11-06T12:22:35.913Z"
   },
   {
    "duration": 55,
    "start_time": "2024-11-06T12:22:35.939Z"
   },
   {
    "duration": 12,
    "start_time": "2024-11-06T12:22:35.995Z"
   },
   {
    "duration": 6,
    "start_time": "2024-11-06T12:22:36.009Z"
   },
   {
    "duration": 54,
    "start_time": "2024-11-06T12:22:36.017Z"
   },
   {
    "duration": 53,
    "start_time": "2024-11-06T12:22:36.072Z"
   },
   {
    "duration": 72,
    "start_time": "2024-11-06T12:22:36.127Z"
   },
   {
    "duration": 88,
    "start_time": "2024-11-06T12:22:36.201Z"
   },
   {
    "duration": 62,
    "start_time": "2024-11-06T12:22:36.291Z"
   },
   {
    "duration": 7,
    "start_time": "2024-11-06T12:22:36.354Z"
   },
   {
    "duration": 26,
    "start_time": "2024-11-06T12:22:36.362Z"
   },
   {
    "duration": 8801,
    "start_time": "2024-11-06T12:26:08.153Z"
   },
   {
    "duration": 46,
    "start_time": "2024-11-06T12:26:16.957Z"
   },
   {
    "duration": 23,
    "start_time": "2024-11-06T12:26:17.005Z"
   },
   {
    "duration": 7,
    "start_time": "2024-11-06T12:26:17.030Z"
   },
   {
    "duration": 21,
    "start_time": "2024-11-06T12:26:17.038Z"
   },
   {
    "duration": 9,
    "start_time": "2024-11-06T12:26:17.061Z"
   },
   {
    "duration": 9,
    "start_time": "2024-11-06T12:26:17.072Z"
   },
   {
    "duration": 3,
    "start_time": "2024-11-06T12:26:17.082Z"
   },
   {
    "duration": 29,
    "start_time": "2024-11-06T12:26:17.087Z"
   },
   {
    "duration": 6,
    "start_time": "2024-11-06T12:26:17.118Z"
   },
   {
    "duration": 475,
    "start_time": "2024-11-06T12:26:17.126Z"
   },
   {
    "duration": 5,
    "start_time": "2024-11-06T12:26:17.603Z"
   },
   {
    "duration": 466,
    "start_time": "2024-11-06T12:26:17.609Z"
   },
   {
    "duration": 495,
    "start_time": "2024-11-06T12:26:18.078Z"
   },
   {
    "duration": 795,
    "start_time": "2024-11-06T12:26:18.575Z"
   },
   {
    "duration": 217,
    "start_time": "2024-11-06T12:26:19.371Z"
   },
   {
    "duration": 166,
    "start_time": "2024-11-06T12:26:19.590Z"
   },
   {
    "duration": 309,
    "start_time": "2024-11-06T12:26:19.758Z"
   },
   {
    "duration": 3,
    "start_time": "2024-11-06T12:26:20.068Z"
   },
   {
    "duration": 35,
    "start_time": "2024-11-06T12:26:20.072Z"
   },
   {
    "duration": 32,
    "start_time": "2024-11-06T12:26:20.108Z"
   },
   {
    "duration": 163,
    "start_time": "2024-11-06T12:26:20.141Z"
   },
   {
    "duration": 5,
    "start_time": "2024-11-06T12:26:20.305Z"
   },
   {
    "duration": 31,
    "start_time": "2024-11-06T12:26:20.312Z"
   },
   {
    "duration": 6,
    "start_time": "2024-11-06T12:26:20.344Z"
   },
   {
    "duration": 12,
    "start_time": "2024-11-06T12:26:20.351Z"
   },
   {
    "duration": 17,
    "start_time": "2024-11-06T12:26:20.364Z"
   },
   {
    "duration": 25,
    "start_time": "2024-11-06T12:26:20.383Z"
   },
   {
    "duration": 73,
    "start_time": "2024-11-06T12:26:20.410Z"
   },
   {
    "duration": 71,
    "start_time": "2024-11-06T12:26:20.484Z"
   },
   {
    "duration": 44,
    "start_time": "2024-11-06T12:26:20.557Z"
   },
   {
    "duration": 5,
    "start_time": "2024-11-06T12:26:20.603Z"
   },
   {
    "duration": 6,
    "start_time": "2024-11-06T12:26:20.610Z"
   },
   {
    "duration": 16,
    "start_time": "2024-11-06T12:26:20.617Z"
   },
   {
    "duration": 162081,
    "start_time": "2024-11-06T12:26:20.635Z"
   },
   {
    "duration": 18292,
    "start_time": "2024-11-06T12:29:02.718Z"
   },
   {
    "duration": 103,
    "start_time": "2024-11-06T12:29:21.012Z"
   },
   {
    "duration": 5,
    "start_time": "2024-11-06T12:29:21.120Z"
   },
   {
    "duration": 25566,
    "start_time": "2024-11-06T12:29:21.127Z"
   },
   {
    "duration": 1176,
    "start_time": "2024-11-06T12:29:46.695Z"
   },
   {
    "duration": 6,
    "start_time": "2024-11-06T12:29:47.875Z"
   },
   {
    "duration": 16,
    "start_time": "2024-11-06T12:29:47.882Z"
   },
   {
    "duration": 6,
    "start_time": "2024-11-06T12:29:47.900Z"
   },
   {
    "duration": 116,
    "start_time": "2024-11-06T12:29:47.908Z"
   },
   {
    "duration": 2,
    "start_time": "2024-11-06T12:30:35.510Z"
   },
   {
    "duration": 3,
    "start_time": "2024-11-06T12:30:37.040Z"
   },
   {
    "duration": 3,
    "start_time": "2024-11-06T12:42:58.639Z"
   },
   {
    "duration": 3,
    "start_time": "2024-11-06T12:43:00.850Z"
   },
   {
    "duration": 2,
    "start_time": "2024-11-06T12:44:32.321Z"
   },
   {
    "duration": 12414,
    "start_time": "2024-11-06T12:46:57.303Z"
   },
   {
    "duration": 27,
    "start_time": "2024-11-06T12:47:41.914Z"
   },
   {
    "duration": 10,
    "start_time": "2024-11-06T12:47:51.036Z"
   },
   {
    "duration": 3,
    "start_time": "2024-11-06T12:49:57.943Z"
   },
   {
    "duration": 2,
    "start_time": "2024-11-06T12:50:10.439Z"
   },
   {
    "duration": 984,
    "start_time": "2024-11-06T12:50:18.867Z"
   },
   {
    "duration": 1285,
    "start_time": "2024-11-06T12:50:55.595Z"
   },
   {
    "duration": 11041,
    "start_time": "2024-11-06T12:51:03.977Z"
   },
   {
    "duration": 53,
    "start_time": "2024-11-06T12:52:11.231Z"
   },
   {
    "duration": 11,
    "start_time": "2024-11-06T12:52:22.095Z"
   },
   {
    "duration": 4,
    "start_time": "2024-11-06T13:07:34.194Z"
   },
   {
    "duration": 3,
    "start_time": "2024-11-06T13:08:14.951Z"
   },
   {
    "duration": 29147,
    "start_time": "2024-11-06T13:10:11.326Z"
   },
   {
    "duration": 6613,
    "start_time": "2024-11-06T13:11:44.612Z"
   },
   {
    "duration": 26,
    "start_time": "2024-11-06T13:12:27.155Z"
   },
   {
    "duration": 9676,
    "start_time": "2024-11-06T13:39:22.344Z"
   },
   {
    "duration": 43,
    "start_time": "2024-11-06T13:39:32.023Z"
   },
   {
    "duration": 27,
    "start_time": "2024-11-06T13:39:32.068Z"
   },
   {
    "duration": 6,
    "start_time": "2024-11-06T13:39:32.097Z"
   },
   {
    "duration": 25,
    "start_time": "2024-11-06T13:39:32.104Z"
   },
   {
    "duration": 14,
    "start_time": "2024-11-06T13:39:32.130Z"
   },
   {
    "duration": 33,
    "start_time": "2024-11-06T13:39:32.145Z"
   },
   {
    "duration": 23,
    "start_time": "2024-11-06T13:39:32.179Z"
   },
   {
    "duration": 34,
    "start_time": "2024-11-06T13:39:32.204Z"
   },
   {
    "duration": 13,
    "start_time": "2024-11-06T13:39:32.241Z"
   },
   {
    "duration": 505,
    "start_time": "2024-11-06T13:39:32.256Z"
   },
   {
    "duration": 7,
    "start_time": "2024-11-06T13:39:32.763Z"
   },
   {
    "duration": 587,
    "start_time": "2024-11-06T13:39:32.771Z"
   },
   {
    "duration": 532,
    "start_time": "2024-11-06T13:39:33.359Z"
   },
   {
    "duration": 853,
    "start_time": "2024-11-06T13:39:33.892Z"
   },
   {
    "duration": 221,
    "start_time": "2024-11-06T13:39:34.746Z"
   },
   {
    "duration": 183,
    "start_time": "2024-11-06T13:39:34.968Z"
   },
   {
    "duration": 325,
    "start_time": "2024-11-06T13:39:35.153Z"
   },
   {
    "duration": 4,
    "start_time": "2024-11-06T13:39:35.479Z"
   },
   {
    "duration": 24,
    "start_time": "2024-11-06T13:39:35.484Z"
   },
   {
    "duration": 18,
    "start_time": "2024-11-06T13:39:35.509Z"
   },
   {
    "duration": 140,
    "start_time": "2024-11-06T13:39:35.529Z"
   },
   {
    "duration": 7,
    "start_time": "2024-11-06T13:39:35.670Z"
   },
   {
    "duration": 47,
    "start_time": "2024-11-06T13:39:35.678Z"
   },
   {
    "duration": 20,
    "start_time": "2024-11-06T13:39:35.726Z"
   },
   {
    "duration": 31,
    "start_time": "2024-11-06T13:39:35.747Z"
   },
   {
    "duration": 46,
    "start_time": "2024-11-06T13:39:35.780Z"
   },
   {
    "duration": 12,
    "start_time": "2024-11-06T13:39:35.830Z"
   },
   {
    "duration": 10,
    "start_time": "2024-11-06T13:39:35.843Z"
   },
   {
    "duration": 42,
    "start_time": "2024-11-06T13:39:35.854Z"
   },
   {
    "duration": 7,
    "start_time": "2024-11-06T13:39:35.897Z"
   },
   {
    "duration": 18,
    "start_time": "2024-11-06T13:39:35.905Z"
   },
   {
    "duration": 13,
    "start_time": "2024-11-06T13:39:35.924Z"
   },
   {
    "duration": 4,
    "start_time": "2024-11-06T13:39:35.938Z"
   },
   {
    "duration": 9504,
    "start_time": "2024-11-06T13:57:37.625Z"
   },
   {
    "duration": 44,
    "start_time": "2024-11-06T13:57:47.131Z"
   },
   {
    "duration": 26,
    "start_time": "2024-11-06T13:57:47.177Z"
   },
   {
    "duration": 13,
    "start_time": "2024-11-06T13:57:47.205Z"
   },
   {
    "duration": 18,
    "start_time": "2024-11-06T13:57:47.221Z"
   },
   {
    "duration": 5,
    "start_time": "2024-11-06T13:57:47.240Z"
   },
   {
    "duration": 12,
    "start_time": "2024-11-06T13:57:47.246Z"
   },
   {
    "duration": 5,
    "start_time": "2024-11-06T13:57:47.259Z"
   },
   {
    "duration": 16,
    "start_time": "2024-11-06T13:57:47.266Z"
   },
   {
    "duration": 33,
    "start_time": "2024-11-06T13:57:47.283Z"
   },
   {
    "duration": 568,
    "start_time": "2024-11-06T13:57:47.325Z"
   },
   {
    "duration": 6,
    "start_time": "2024-11-06T13:57:47.895Z"
   },
   {
    "duration": 622,
    "start_time": "2024-11-06T13:57:47.902Z"
   },
   {
    "duration": 599,
    "start_time": "2024-11-06T13:57:48.527Z"
   },
   {
    "duration": 842,
    "start_time": "2024-11-06T13:57:49.128Z"
   },
   {
    "duration": 468,
    "start_time": "2024-11-06T13:57:49.972Z"
   },
   {
    "duration": 379,
    "start_time": "2024-11-06T13:57:50.441Z"
   },
   {
    "duration": 531,
    "start_time": "2024-11-06T13:57:50.821Z"
   },
   {
    "duration": 3,
    "start_time": "2024-11-06T13:57:51.354Z"
   },
   {
    "duration": 78,
    "start_time": "2024-11-06T13:57:51.359Z"
   },
   {
    "duration": 6,
    "start_time": "2024-11-06T13:57:51.445Z"
   },
   {
    "duration": 378,
    "start_time": "2024-11-06T13:57:51.453Z"
   },
   {
    "duration": 7,
    "start_time": "2024-11-06T13:57:51.834Z"
   },
   {
    "duration": 10,
    "start_time": "2024-11-06T13:57:51.843Z"
   },
   {
    "duration": 6,
    "start_time": "2024-11-06T13:57:51.855Z"
   },
   {
    "duration": 6,
    "start_time": "2024-11-06T13:57:51.862Z"
   },
   {
    "duration": 12,
    "start_time": "2024-11-06T13:57:51.870Z"
   },
   {
    "duration": 30,
    "start_time": "2024-11-06T13:57:51.883Z"
   },
   {
    "duration": 5,
    "start_time": "2024-11-06T13:57:51.921Z"
   },
   {
    "duration": 10,
    "start_time": "2024-11-06T13:57:51.928Z"
   },
   {
    "duration": 9,
    "start_time": "2024-11-06T13:57:51.939Z"
   },
   {
    "duration": 5,
    "start_time": "2024-11-06T13:57:51.950Z"
   },
   {
    "duration": 4,
    "start_time": "2024-11-06T13:57:51.956Z"
   },
   {
    "duration": 41,
    "start_time": "2024-11-06T13:57:51.962Z"
   },
   {
    "duration": 712510,
    "start_time": "2024-11-06T13:57:52.005Z"
   },
   {
    "duration": 7792,
    "start_time": "2024-11-06T14:09:44.516Z"
   },
   {
    "duration": 16,
    "start_time": "2024-11-06T14:09:52.310Z"
   },
   {
    "duration": 41,
    "start_time": "2024-11-06T14:09:52.407Z"
   },
   {
    "duration": 23985,
    "start_time": "2024-11-06T14:09:52.449Z"
   },
   {
    "duration": 1220,
    "start_time": "2024-11-06T14:10:16.435Z"
   },
   {
    "duration": 6,
    "start_time": "2024-11-06T14:10:17.659Z"
   },
   {
    "duration": 6,
    "start_time": "2024-11-06T14:10:17.666Z"
   },
   {
    "duration": 7,
    "start_time": "2024-11-06T14:10:17.673Z"
   },
   {
    "duration": 14,
    "start_time": "2024-11-06T14:10:17.681Z"
   },
   {
    "duration": 7,
    "start_time": "2024-11-06T14:10:17.696Z"
   },
   {
    "duration": 7,
    "start_time": "2024-11-06T14:10:17.704Z"
   },
   {
    "duration": 90,
    "start_time": "2024-11-06T14:10:17.712Z"
   },
   {
    "duration": 11814,
    "start_time": "2024-11-06T14:10:17.804Z"
   },
   {
    "duration": 196,
    "start_time": "2024-11-06T14:10:29.622Z"
   },
   {
    "duration": 91,
    "start_time": "2024-11-06T14:10:29.823Z"
   },
   {
    "duration": 89,
    "start_time": "2024-11-06T14:10:29.919Z"
   },
   {
    "duration": 181,
    "start_time": "2024-11-06T14:10:30.010Z"
   },
   {
    "duration": 1348,
    "start_time": "2024-11-06T14:10:30.193Z"
   },
   {
    "duration": 51,
    "start_time": "2024-11-06T14:10:31.543Z"
   },
   {
    "duration": 11,
    "start_time": "2024-11-06T14:10:31.607Z"
   },
   {
    "duration": 5,
    "start_time": "2024-11-06T14:10:31.619Z"
   },
   {
    "duration": 16,
    "start_time": "2024-11-06T14:10:31.626Z"
   },
   {
    "duration": 28546,
    "start_time": "2024-11-06T14:10:31.643Z"
   },
   {
    "duration": 6605,
    "start_time": "2024-11-06T14:11:00.190Z"
   },
   {
    "duration": 28,
    "start_time": "2024-11-06T14:11:06.797Z"
   },
   {
    "duration": 3,
    "start_time": "2024-11-06T14:32:05.074Z"
   },
   {
    "duration": 10,
    "start_time": "2024-11-06T14:33:23.206Z"
   },
   {
    "duration": 135,
    "start_time": "2024-11-06T14:52:49.727Z"
   },
   {
    "duration": 4,
    "start_time": "2024-11-06T14:53:19.005Z"
   },
   {
    "duration": 3,
    "start_time": "2024-11-06T14:53:33.976Z"
   },
   {
    "duration": 59,
    "start_time": "2024-11-06T14:54:11.256Z"
   },
   {
    "duration": 436,
    "start_time": "2024-11-06T14:56:56.862Z"
   },
   {
    "duration": 237,
    "start_time": "2024-11-06T15:02:23.019Z"
   },
   {
    "duration": 375,
    "start_time": "2024-11-06T15:11:06.166Z"
   },
   {
    "duration": 345,
    "start_time": "2024-11-06T15:11:38.005Z"
   },
   {
    "duration": 395,
    "start_time": "2024-11-06T15:28:15.958Z"
   },
   {
    "duration": 367,
    "start_time": "2024-11-06T15:28:27.763Z"
   },
   {
    "duration": 363,
    "start_time": "2024-11-06T15:28:43.190Z"
   },
   {
    "duration": 357,
    "start_time": "2024-11-06T15:28:54.808Z"
   },
   {
    "duration": 366,
    "start_time": "2024-11-06T15:29:00.669Z"
   },
   {
    "duration": 567,
    "start_time": "2024-11-06T15:54:44.205Z"
   },
   {
    "duration": 10114,
    "start_time": "2024-11-06T17:11:01.522Z"
   },
   {
    "duration": 42,
    "start_time": "2024-11-06T17:11:11.638Z"
   },
   {
    "duration": 22,
    "start_time": "2024-11-06T17:11:11.682Z"
   },
   {
    "duration": 32,
    "start_time": "2024-11-06T17:11:11.705Z"
   },
   {
    "duration": 91,
    "start_time": "2024-11-06T17:11:11.738Z"
   },
   {
    "duration": 14,
    "start_time": "2024-11-06T17:11:11.831Z"
   },
   {
    "duration": 11,
    "start_time": "2024-11-06T17:11:11.847Z"
   },
   {
    "duration": 22,
    "start_time": "2024-11-06T17:11:11.859Z"
   },
   {
    "duration": 44,
    "start_time": "2024-11-06T17:11:11.884Z"
   },
   {
    "duration": 22,
    "start_time": "2024-11-06T17:11:11.930Z"
   },
   {
    "duration": 476,
    "start_time": "2024-11-06T17:11:11.954Z"
   },
   {
    "duration": 6,
    "start_time": "2024-11-06T17:11:12.432Z"
   },
   {
    "duration": 551,
    "start_time": "2024-11-06T17:11:12.440Z"
   },
   {
    "duration": 509,
    "start_time": "2024-11-06T17:11:12.993Z"
   },
   {
    "duration": 845,
    "start_time": "2024-11-06T17:11:13.504Z"
   },
   {
    "duration": 226,
    "start_time": "2024-11-06T17:11:14.351Z"
   },
   {
    "duration": 189,
    "start_time": "2024-11-06T17:11:14.578Z"
   },
   {
    "duration": 320,
    "start_time": "2024-11-06T17:11:14.768Z"
   },
   {
    "duration": 4,
    "start_time": "2024-11-06T17:11:15.090Z"
   },
   {
    "duration": 68,
    "start_time": "2024-11-06T17:11:15.095Z"
   },
   {
    "duration": 167,
    "start_time": "2024-11-06T17:11:15.165Z"
   },
   {
    "duration": 6,
    "start_time": "2024-11-06T17:11:15.334Z"
   },
   {
    "duration": 32,
    "start_time": "2024-11-06T17:11:15.342Z"
   },
   {
    "duration": 21,
    "start_time": "2024-11-06T17:11:15.376Z"
   },
   {
    "duration": 26,
    "start_time": "2024-11-06T17:11:15.399Z"
   },
   {
    "duration": 30,
    "start_time": "2024-11-06T17:11:15.427Z"
   },
   {
    "duration": 10,
    "start_time": "2024-11-06T17:11:15.459Z"
   },
   {
    "duration": 25,
    "start_time": "2024-11-06T17:11:15.471Z"
   },
   {
    "duration": 22,
    "start_time": "2024-11-06T17:11:15.498Z"
   },
   {
    "duration": 18,
    "start_time": "2024-11-06T17:11:15.521Z"
   },
   {
    "duration": 32,
    "start_time": "2024-11-06T17:11:15.541Z"
   },
   {
    "duration": 9959,
    "start_time": "2024-11-06T17:19:30.265Z"
   },
   {
    "duration": 43,
    "start_time": "2024-11-06T17:19:40.226Z"
   },
   {
    "duration": 20,
    "start_time": "2024-11-06T17:19:40.270Z"
   },
   {
    "duration": 6,
    "start_time": "2024-11-06T17:19:40.292Z"
   },
   {
    "duration": 19,
    "start_time": "2024-11-06T17:19:40.300Z"
   },
   {
    "duration": 3,
    "start_time": "2024-11-06T17:19:40.321Z"
   },
   {
    "duration": 12,
    "start_time": "2024-11-06T17:19:40.326Z"
   },
   {
    "duration": 3,
    "start_time": "2024-11-06T17:19:40.340Z"
   },
   {
    "duration": 20,
    "start_time": "2024-11-06T17:19:40.344Z"
   },
   {
    "duration": 13,
    "start_time": "2024-11-06T17:19:40.366Z"
   },
   {
    "duration": 438,
    "start_time": "2024-11-06T17:19:40.380Z"
   },
   {
    "duration": 5,
    "start_time": "2024-11-06T17:19:40.822Z"
   },
   {
    "duration": 493,
    "start_time": "2024-11-06T17:19:40.829Z"
   },
   {
    "duration": 469,
    "start_time": "2024-11-06T17:19:41.323Z"
   },
   {
    "duration": 822,
    "start_time": "2024-11-06T17:19:41.794Z"
   },
   {
    "duration": 255,
    "start_time": "2024-11-06T17:19:42.618Z"
   },
   {
    "duration": 168,
    "start_time": "2024-11-06T17:19:42.874Z"
   },
   {
    "duration": 343,
    "start_time": "2024-11-06T17:19:43.043Z"
   },
   {
    "duration": 3,
    "start_time": "2024-11-06T17:19:43.387Z"
   },
   {
    "duration": 7,
    "start_time": "2024-11-06T17:19:43.392Z"
   },
   {
    "duration": 121,
    "start_time": "2024-11-06T17:19:43.401Z"
   },
   {
    "duration": 8,
    "start_time": "2024-11-06T17:19:43.523Z"
   },
   {
    "duration": 15,
    "start_time": "2024-11-06T17:19:43.532Z"
   },
   {
    "duration": 22,
    "start_time": "2024-11-06T17:19:43.549Z"
   },
   {
    "duration": 7,
    "start_time": "2024-11-06T17:19:43.573Z"
   },
   {
    "duration": 5,
    "start_time": "2024-11-06T17:19:43.581Z"
   },
   {
    "duration": 6,
    "start_time": "2024-11-06T17:19:43.588Z"
   },
   {
    "duration": 3,
    "start_time": "2024-11-06T17:19:43.597Z"
   },
   {
    "duration": 16,
    "start_time": "2024-11-06T17:19:43.601Z"
   },
   {
    "duration": 11,
    "start_time": "2024-11-06T17:19:43.618Z"
   },
   {
    "duration": 5,
    "start_time": "2024-11-06T17:19:43.630Z"
   },
   {
    "duration": 762881,
    "start_time": "2024-11-06T17:19:43.636Z"
   },
   {
    "duration": 7505,
    "start_time": "2024-11-06T17:32:26.608Z"
   },
   {
    "duration": 100,
    "start_time": "2024-11-06T17:32:34.114Z"
   },
   {
    "duration": 3,
    "start_time": "2024-11-06T17:32:34.215Z"
   },
   {
    "duration": 24631,
    "start_time": "2024-11-06T17:32:34.220Z"
   },
   {
    "duration": 1426,
    "start_time": "2024-11-06T17:32:58.852Z"
   },
   {
    "duration": 6,
    "start_time": "2024-11-06T17:33:00.280Z"
   },
   {
    "duration": 40,
    "start_time": "2024-11-06T17:33:00.287Z"
   },
   {
    "duration": 29,
    "start_time": "2024-11-06T17:33:00.329Z"
   },
   {
    "duration": 40,
    "start_time": "2024-11-06T17:33:00.360Z"
   },
   {
    "duration": 34,
    "start_time": "2024-11-06T17:33:00.402Z"
   },
   {
    "duration": 33,
    "start_time": "2024-11-06T17:33:00.438Z"
   },
   {
    "duration": 11635,
    "start_time": "2024-11-06T17:33:00.473Z"
   },
   {
    "duration": 114,
    "start_time": "2024-11-06T17:33:12.110Z"
   },
   {
    "duration": 183,
    "start_time": "2024-11-06T17:33:12.225Z"
   },
   {
    "duration": 4,
    "start_time": "2024-11-06T17:33:12.412Z"
   },
   {
    "duration": 3,
    "start_time": "2024-11-06T17:33:12.506Z"
   },
   {
    "duration": 1316,
    "start_time": "2024-11-06T17:33:12.510Z"
   },
   {
    "duration": 50,
    "start_time": "2024-11-06T17:33:13.827Z"
   },
   {
    "duration": 10,
    "start_time": "2024-11-06T17:33:13.878Z"
   },
   {
    "duration": 32,
    "start_time": "2024-11-06T17:33:13.889Z"
   },
   {
    "duration": 17,
    "start_time": "2024-11-06T17:33:13.922Z"
   },
   {
    "duration": 27552,
    "start_time": "2024-11-06T17:33:13.940Z"
   },
   {
    "duration": 6272,
    "start_time": "2024-11-06T17:33:41.493Z"
   },
   {
    "duration": 22,
    "start_time": "2024-11-06T17:33:47.767Z"
   },
   {
    "duration": 3,
    "start_time": "2024-11-06T17:33:47.790Z"
   },
   {
    "duration": 19,
    "start_time": "2024-11-06T17:33:47.795Z"
   },
   {
    "duration": 15,
    "start_time": "2024-11-06T17:33:47.815Z"
   },
   {
    "duration": 403,
    "start_time": "2024-11-06T17:33:47.831Z"
   }
  ],
  "kernelspec": {
   "display_name": "Python 3 (ipykernel)",
   "language": "python",
   "name": "python3"
  },
  "language_info": {
   "codemirror_mode": {
    "name": "ipython",
    "version": 3
   },
   "file_extension": ".py",
   "mimetype": "text/x-python",
   "name": "python",
   "nbconvert_exporter": "python",
   "pygments_lexer": "ipython3",
   "version": "3.11.7"
  },
  "toc": {
   "base_numbering": 1,
   "nav_menu": {},
   "number_sections": true,
   "sideBar": true,
   "skip_h1_title": true,
   "title_cell": "Содержание",
   "title_sidebar": "Contents",
   "toc_cell": true,
   "toc_position": {
    "height": "calc(100% - 180px)",
    "left": "10px",
    "top": "150px",
    "width": "302.391px"
   },
   "toc_section_display": true,
   "toc_window_display": true
  }
 },
 "nbformat": 4,
 "nbformat_minor": 4
}
